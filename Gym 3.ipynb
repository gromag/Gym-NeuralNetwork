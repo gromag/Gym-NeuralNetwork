{
 "cells": [
  {
   "cell_type": "markdown",
   "metadata": {},
   "source": [
    "# Exploring neural networks\n",
    "\n",
    "## Problem 2\n",
    "\n",
    "Given a dataset where each sample contains all 0s and randomly a number between 0 and 100 somewhere to replace the 0s.\n",
    "Create a neural network that can distinguish between record no replaced number or a number below 50 and those that contain 0s and a number above 50.\n",
    "\n",
    "## Problem 3\n",
    "\n",
    "Given a datase where each sample contains random numbers between 0-10, create a neural network that can distinguish between record whose sum is greater than 20 and those that are less than 20."
   ]
  },
  {
   "cell_type": "code",
   "execution_count": null,
   "metadata": {},
   "outputs": [],
   "source": []
  }
 ],
 "metadata": {
  "hide_input": false,
  "kernelspec": {
   "display_name": "quadcop",
   "language": "python",
   "name": "quadcop"
  },
  "language_info": {
   "codemirror_mode": {
    "name": "ipython",
    "version": 3
   },
   "file_extension": ".py",
   "mimetype": "text/x-python",
   "name": "python",
   "nbconvert_exporter": "python",
   "pygments_lexer": "ipython3",
   "version": "3.6.8"
  }
 },
 "nbformat": 4,
 "nbformat_minor": 2
}
