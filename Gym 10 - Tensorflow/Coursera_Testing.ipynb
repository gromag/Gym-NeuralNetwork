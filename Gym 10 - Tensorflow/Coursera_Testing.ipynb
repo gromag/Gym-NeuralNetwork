{
  "cells": [
    {
      "cell_type": "markdown",
      "metadata": {
        "id": "view-in-github",
        "colab_type": "text"
      },
      "source": [
        "<a href=\"https://colab.research.google.com/github/gromag/Gym-NeuralNetwork/blob/master/Gym%2010%20-%20Tensorflow/Coursera_Testing.ipynb\" target=\"_parent\"><img src=\"https://colab.research.google.com/assets/colab-badge.svg\" alt=\"Open In Colab\"/></a>"
      ]
    },
    {
      "cell_type": "markdown",
      "metadata": {
        "id": "2l9IyhTOH--r"
      },
      "source": [
        "## Notebook for testing layers shapes"
      ]
    },
    {
      "cell_type": "code",
      "execution_count": 1,
      "metadata": {
        "id": "QjfXGuBRH--w"
      },
      "outputs": [],
      "source": [
        "import tensorflow as tf\n",
        "from tensorflow.keras.models import Sequential, Model\n",
        "from tensorflow.keras.layers import Dense, Flatten, Softmax, BatchNormalization, Conv1D, Dropout, MaxPooling2D, Input, AveragePooling1D"
      ]
    },
    {
      "cell_type": "code",
      "execution_count": 15,
      "metadata": {
        "colab": {
          "base_uri": "https://localhost:8080/"
        },
        "id": "Ve_hLk1tH--0",
        "outputId": "2f66580f-59dd-422b-ef81-3950fb812338"
      },
      "outputs": [
        {
          "output_type": "execute_result",
          "data": {
            "text/plain": [
              "[<tf.Variable 'conv1d_layer/kernel:0' shape=(5, 1, 3) dtype=float32, numpy=\n",
              " array([[[ 0.1245926 , -0.43398225,  0.41630805]],\n",
              " \n",
              "        [[ 0.04097176,  0.33567816, -0.1110152 ]],\n",
              " \n",
              "        [[ 0.0618794 ,  0.01969767,  0.52203083]],\n",
              " \n",
              "        [[ 0.25143892,  0.0427053 ,  0.01003146]],\n",
              " \n",
              "        [[ 0.37227094,  0.01502538, -0.08766073]]], dtype=float32)>,\n",
              " <tf.Variable 'conv1d_layer/bias:0' shape=(3,) dtype=float32, numpy=array([0., 0., 0.], dtype=float32)>]"
            ]
          },
          "metadata": {},
          "execution_count": 15
        }
      ],
      "source": [
        "inputs = Input(shape=(32,1))\n",
        "h = Conv1D(3, 5, activation='relu', name=\"conv1d_layer\")(inputs)\n",
        "h = AveragePooling1D(3)(h)\n",
        "h = Flatten(name='flatten')(h)\n",
        "outputs = Dense(1, activation='sigmoid')(h)\n",
        "\n",
        "model = Model(inputs=inputs, outputs=outputs)\n",
        "\n",
        "model.layers[1].weights"
      ]
    },
    {
      "cell_type": "code",
      "source": [
        "model.layers[1].get_weights()"
      ],
      "metadata": {
        "colab": {
          "base_uri": "https://localhost:8080/"
        },
        "id": "hHdVC_WcJB1S",
        "outputId": "2615977a-df2d-4a94-a059-d4f82d815055"
      },
      "execution_count": 7,
      "outputs": [
        {
          "output_type": "execute_result",
          "data": {
            "text/plain": [
              "[array([[[-0.4609501 , -0.28568465,  0.26282746]],\n",
              " \n",
              "        [[-0.40010193, -0.30966938,  0.1757614 ]],\n",
              " \n",
              "        [[ 0.48283017, -0.0257799 ,  0.1681    ]],\n",
              " \n",
              "        [[ 0.09975755, -0.07096177,  0.40127122]],\n",
              " \n",
              "        [[-0.5072687 , -0.31586534, -0.4361777 ]]], dtype=float32),\n",
              " array([0., 0., 0.], dtype=float32)]"
            ]
          },
          "metadata": {},
          "execution_count": 7
        }
      ]
    },
    {
      "cell_type": "code",
      "source": [
        "model.layers[1].kernel"
      ],
      "metadata": {
        "colab": {
          "base_uri": "https://localhost:8080/"
        },
        "id": "-CWc77TvMRGk",
        "outputId": "6428dd1c-2792-41ec-f61d-cd435882d8df"
      },
      "execution_count": 8,
      "outputs": [
        {
          "output_type": "execute_result",
          "data": {
            "text/plain": [
              "<tf.Variable 'conv1d_layer/kernel:0' shape=(5, 1, 3) dtype=float32, numpy=\n",
              "array([[[-0.4609501 , -0.28568465,  0.26282746]],\n",
              "\n",
              "       [[-0.40010193, -0.30966938,  0.1757614 ]],\n",
              "\n",
              "       [[ 0.48283017, -0.0257799 ,  0.1681    ]],\n",
              "\n",
              "       [[ 0.09975755, -0.07096177,  0.40127122]],\n",
              "\n",
              "       [[-0.5072687 , -0.31586534, -0.4361777 ]]], dtype=float32)>"
            ]
          },
          "metadata": {},
          "execution_count": 8
        }
      ]
    },
    {
      "cell_type": "code",
      "source": [
        "model.layers[1].bias"
      ],
      "metadata": {
        "id": "osAGPal0Mp5X",
        "outputId": "86b4c736-04d1-465c-cfd1-49f6d67f2c82",
        "colab": {
          "base_uri": "https://localhost:8080/"
        }
      },
      "execution_count": 9,
      "outputs": [
        {
          "output_type": "execute_result",
          "data": {
            "text/plain": [
              "<tf.Variable 'conv1d_layer/bias:0' shape=(3,) dtype=float32, numpy=array([0., 0., 0.], dtype=float32)>"
            ]
          },
          "metadata": {},
          "execution_count": 9
        }
      ]
    },
    {
      "cell_type": "code",
      "source": [
        "model.get_layer('conv1d_layer').weights"
      ],
      "metadata": {
        "id": "HrDhvi4LMsp2",
        "outputId": "4e03d6f1-3e75-499d-a40e-69a91fd2274c",
        "colab": {
          "base_uri": "https://localhost:8080/"
        }
      },
      "execution_count": 11,
      "outputs": [
        {
          "output_type": "execute_result",
          "data": {
            "text/plain": [
              "[<tf.Variable 'conv1d_layer/kernel:0' shape=(5, 1, 3) dtype=float32, numpy=\n",
              " array([[[-0.4609501 , -0.28568465,  0.26282746]],\n",
              " \n",
              "        [[-0.40010193, -0.30966938,  0.1757614 ]],\n",
              " \n",
              "        [[ 0.48283017, -0.0257799 ,  0.1681    ]],\n",
              " \n",
              "        [[ 0.09975755, -0.07096177,  0.40127122]],\n",
              " \n",
              "        [[-0.5072687 , -0.31586534, -0.4361777 ]]], dtype=float32)>,\n",
              " <tf.Variable 'conv1d_layer/bias:0' shape=(3,) dtype=float32, numpy=array([0., 0., 0.], dtype=float32)>]"
            ]
          },
          "metadata": {},
          "execution_count": 11
        }
      ]
    },
    {
      "cell_type": "code",
      "source": [
        "model.layers[1].input"
      ],
      "metadata": {
        "id": "npfIDGthNOUZ",
        "outputId": "b0112d90-386e-4916-9635-535dce1bf94c",
        "colab": {
          "base_uri": "https://localhost:8080/"
        }
      },
      "execution_count": 13,
      "outputs": [
        {
          "output_type": "execute_result",
          "data": {
            "text/plain": [
              "<KerasTensor: shape=(None, 32, 1) dtype=float32 (created by layer 'input_2')>"
            ]
          },
          "metadata": {},
          "execution_count": 13
        }
      ]
    },
    {
      "cell_type": "code",
      "source": [
        "model.layers[1].output"
      ],
      "metadata": {
        "id": "eLp6_LCcOVmM",
        "outputId": "c71baa43-3955-46bc-a2d1-2ff99e9b6700",
        "colab": {
          "base_uri": "https://localhost:8080/"
        }
      },
      "execution_count": 14,
      "outputs": [
        {
          "output_type": "execute_result",
          "data": {
            "text/plain": [
              "<KerasTensor: shape=(None, 28, 3) dtype=float32 (created by layer 'conv1d_layer')>"
            ]
          },
          "metadata": {},
          "execution_count": 14
        }
      ]
    },
    {
      "cell_type": "code",
      "source": [
        "flatten_outputs = model.get_layer('flatten').output\n",
        "\n",
        "model2 = Model(inputs = inputs, outputs = flatten_outputs)"
      ],
      "metadata": {
        "id": "IK3OSDonOYz2"
      },
      "execution_count": 19,
      "outputs": []
    },
    {
      "cell_type": "code",
      "source": [
        "model3 = Sequential([\n",
        "                     model2,\n",
        "                     Dense(10, activation='softmax', name='new_dense_layer')\n",
        "])"
      ],
      "metadata": {
        "id": "LIS4cBEcO7ka"
      },
      "execution_count": 20,
      "outputs": []
    },
    {
      "cell_type": "code",
      "source": [
        "new_output = Dense(10, activation='softmax', name='new_dense_layer')(model2.output)\n",
        "model4 = Model(inputs=model2.input, outputs = new_output)"
      ],
      "metadata": {
        "id": "g2PGxKAvPZeJ"
      },
      "execution_count": 22,
      "outputs": []
    },
    {
      "cell_type": "code",
      "source": [
        ""
      ],
      "metadata": {
        "id": "JCwCHVRHPxyX"
      },
      "execution_count": null,
      "outputs": []
    }
  ],
  "metadata": {
    "interpreter": {
      "hash": "31f2aee4e71d21fbe5cf8b01ff0e069b9275f58929596ceb00d14d90e3e16cd6"
    },
    "kernelspec": {
      "display_name": "Python 3.8.9 64-bit",
      "language": "python",
      "name": "python3"
    },
    "language_info": {
      "codemirror_mode": {
        "name": "ipython",
        "version": 3
      },
      "file_extension": ".py",
      "mimetype": "text/x-python",
      "name": "python",
      "nbconvert_exporter": "python",
      "pygments_lexer": "ipython3",
      "version": "3.8.9"
    },
    "orig_nbformat": 4,
    "colab": {
      "name": "Coursera_Testing.ipynb",
      "provenance": [],
      "include_colab_link": true
    }
  },
  "nbformat": 4,
  "nbformat_minor": 0
}