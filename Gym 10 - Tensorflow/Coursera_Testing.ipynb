{
  "cells": [
    {
      "cell_type": "markdown",
      "metadata": {
        "id": "view-in-github",
        "colab_type": "text"
      },
      "source": [
        "<a href=\"https://colab.research.google.com/github/gromag/Gym-NeuralNetwork/blob/master/Gym%2010%20-%20Tensorflow/Coursera_Testing.ipynb\" target=\"_parent\"><img src=\"https://colab.research.google.com/assets/colab-badge.svg\" alt=\"Open In Colab\"/></a>"
      ]
    },
    {
      "cell_type": "markdown",
      "metadata": {
        "id": "2l9IyhTOH--r"
      },
      "source": [
        "## Notebook for testing layers shapes"
      ]
    },
    {
      "cell_type": "code",
      "execution_count": 19,
      "metadata": {
        "id": "QjfXGuBRH--w"
      },
      "outputs": [],
      "source": [
        "import tensorflow as tf\n",
        "from tensorflow.keras.models import Sequential, Model\n",
        "from tensorflow.keras.layers import Dense, Flatten, Softmax, BatchNormalization, Conv1D, Dropout, MaxPooling2D, Input, AveragePooling1D"
      ]
    },
    {
      "cell_type": "code",
      "execution_count": 21,
      "metadata": {
        "id": "Ve_hLk1tH--0",
        "outputId": "c156f54f-6fa3-42db-d084-527ade71f4b8",
        "colab": {
          "base_uri": "https://localhost:8080/"
        }
      },
      "outputs": [
        {
          "output_type": "execute_result",
          "data": {
            "text/plain": [
              "[<tf.Variable 'conv1d_9/kernel:0' shape=(5, 1, 3) dtype=float32, numpy=\n",
              " array([[[-0.38335818,  0.02889937, -0.15416932]],\n",
              " \n",
              "        [[-0.4096335 , -0.4405008 ,  0.2903008 ]],\n",
              " \n",
              "        [[ 0.18407619,  0.07070959,  0.15116715]],\n",
              " \n",
              "        [[ 0.39146578, -0.03685015, -0.44773403]],\n",
              " \n",
              "        [[ 0.4726634 ,  0.4191777 , -0.08191919]]], dtype=float32)>,\n",
              " <tf.Variable 'conv1d_9/bias:0' shape=(3,) dtype=float32, numpy=array([0., 0., 0.], dtype=float32)>]"
            ]
          },
          "metadata": {},
          "execution_count": 21
        }
      ],
      "source": [
        "inputs = Input(shape=(32,1))\n",
        "h = Conv1D(3, 5, activation='relu')(inputs)\n",
        "h = AveragePooling1D(3)(h)\n",
        "h = Flatten()(h)\n",
        "outputs = Dense(1, activation='sigmoid')(h)\n",
        "\n",
        "model = Model(inputs=inputs, outputs=outputs)\n",
        "\n",
        "model.layers[1].weights"
      ]
    },
    {
      "cell_type": "code",
      "source": [
        "model.layers[1].get_weights()"
      ],
      "metadata": {
        "id": "hHdVC_WcJB1S",
        "outputId": "520a8f4c-91c4-48a6-938f-0ff373630df5",
        "colab": {
          "base_uri": "https://localhost:8080/"
        }
      },
      "execution_count": 22,
      "outputs": [
        {
          "output_type": "execute_result",
          "data": {
            "text/plain": [
              "[array([[[-0.38335818,  0.02889937, -0.15416932]],\n",
              " \n",
              "        [[-0.4096335 , -0.4405008 ,  0.2903008 ]],\n",
              " \n",
              "        [[ 0.18407619,  0.07070959,  0.15116715]],\n",
              " \n",
              "        [[ 0.39146578, -0.03685015, -0.44773403]],\n",
              " \n",
              "        [[ 0.4726634 ,  0.4191777 , -0.08191919]]], dtype=float32),\n",
              " array([0., 0., 0.], dtype=float32)]"
            ]
          },
          "metadata": {},
          "execution_count": 22
        }
      ]
    },
    {
      "cell_type": "code",
      "source": [
        ""
      ],
      "metadata": {
        "id": "-CWc77TvMRGk"
      },
      "execution_count": null,
      "outputs": []
    }
  ],
  "metadata": {
    "interpreter": {
      "hash": "31f2aee4e71d21fbe5cf8b01ff0e069b9275f58929596ceb00d14d90e3e16cd6"
    },
    "kernelspec": {
      "display_name": "Python 3.8.9 64-bit",
      "language": "python",
      "name": "python3"
    },
    "language_info": {
      "codemirror_mode": {
        "name": "ipython",
        "version": 3
      },
      "file_extension": ".py",
      "mimetype": "text/x-python",
      "name": "python",
      "nbconvert_exporter": "python",
      "pygments_lexer": "ipython3",
      "version": "3.8.9"
    },
    "orig_nbformat": 4,
    "colab": {
      "name": "Coursera_Testing.ipynb",
      "provenance": [],
      "include_colab_link": true
    }
  },
  "nbformat": 4,
  "nbformat_minor": 0
}