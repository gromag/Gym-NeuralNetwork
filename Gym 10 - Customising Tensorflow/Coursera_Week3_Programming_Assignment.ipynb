{
  "nbformat": 4,
  "nbformat_minor": 0,
  "metadata": {
    "coursera": {
      "course_slug": "tensor-flow-2-2",
      "graded_item_id": "4eYSM",
      "launcher_item_id": "HEV6h"
    },
    "kernelspec": {
      "display_name": "Python 3",
      "language": "python",
      "name": "python3"
    },
    "language_info": {
      "codemirror_mode": {
        "name": "ipython",
        "version": 3
      },
      "file_extension": ".py",
      "mimetype": "text/x-python",
      "name": "python",
      "nbconvert_exporter": "python",
      "pygments_lexer": "ipython3",
      "version": "3.7.1"
    },
    "colab": {
      "provenance": [],
      "collapsed_sections": [
        "gWObVg6DRfSi",
        "iRCN70xkRfSt",
        "U-4W2iICRfS3",
        "YFTEK7hnRfTJ",
        "Rm8gNoNJRfTT",
        "FQ_mAEoPRfTX",
        "IKfaWcCCRfTf",
        "4PJ4cU0YRfTo",
        "upDpsmf9RfT2",
        "2msBeLSoRfT7",
        "7A0FOxOTRfUc"
      ],
      "include_colab_link": true
    },
    "accelerator": "GPU",
    "gpuClass": "standard"
  },
  "cells": [
    {
      "cell_type": "markdown",
      "metadata": {
        "id": "view-in-github",
        "colab_type": "text"
      },
      "source": [
        "<a href=\"https://colab.research.google.com/github/gromag/Gym-NeuralNetwork/blob/master/Gym%2010%20-%20Customising%20Tensorflow/Coursera_Week3_Programming_Assignment.ipynb\" target=\"_parent\"><img src=\"https://colab.research.google.com/assets/colab-badge.svg\" alt=\"Open In Colab\"/></a>"
      ]
    },
    {
      "cell_type": "markdown",
      "metadata": {
        "id": "wJQu9UWtRfRx"
      },
      "source": [
        "# Programming Assignment"
      ]
    },
    {
      "cell_type": "markdown",
      "metadata": {
        "id": "pFRRArflRfR1"
      },
      "source": [
        "## Language model for the Shakespeare dataset"
      ]
    },
    {
      "cell_type": "markdown",
      "metadata": {
        "id": "iPU9O33bRfR3"
      },
      "source": [
        "### Instructions\n",
        "\n",
        "In this notebook, you will use the text preprocessing tools and RNN models to build a character-level language model. You will then train your model on the works of Shakespeare, and use the network to generate your own text.\n",
        "\n",
        "Some code cells are provided you in the notebook. You should avoid editing provided code, and make sure to execute the cells in order to avoid unexpected errors. Some cells begin with the line: \n",
        "\n",
        "`#### GRADED CELL ####`\n",
        "\n",
        "Don't move or edit this first line - this is what the automatic grader looks for to recognise graded cells. These cells require you to write your own code to complete them, and are automatically graded when you submit the notebook. Don't edit the function name or signature provided in these cells, otherwise the automatic grader might not function properly. Inside these graded cells, you can use any functions or classes that are imported below, but make sure you don't use any variables that are outside the scope of the function.\n",
        "\n",
        "### How to submit\n",
        "\n",
        "Complete all the tasks you are asked for in the worksheet. When you have finished and are happy with your code, press the **Submit Assignment** button at the top of this notebook.\n",
        "\n",
        "### Let's get started!\n",
        "\n",
        "We'll start running some imports, and loading the dataset. Do not edit the existing imports in the following cell. If you would like to make further Tensorflow imports, you should add them here."
      ]
    },
    {
      "cell_type": "code",
      "metadata": {
        "id": "2j_QtDXtRfR4"
      },
      "source": [
        "#### PACKAGE IMPORTS ####\n",
        "\n",
        "# Run this cell first to import all required packages. Do not make any imports elsewhere in the notebook\n",
        "\n",
        "import tensorflow as tf\n",
        "import numpy as np\n",
        "import json\n",
        "import matplotlib.pyplot as plt\n",
        "%matplotlib inline\n",
        "\n",
        "# If you would like to make further imports from tensorflow, add them here\n",
        "from tensorflow.keras.preprocessing.text import Tokenizer\n",
        "from tensorflow.keras.models import Sequential \n",
        "from tensorflow.keras.layers import Embedding, GRU, Dense\n"
      ],
      "execution_count": 1,
      "outputs": []
    },
    {
      "cell_type": "markdown",
      "metadata": {
        "id": "r3wpZrx7RfR-"
      },
      "source": [
        "#### The Shakespeare dataset\n",
        "\n",
        "In this assignment, you will use a subset of the [Shakespeare dataset](http://shakespeare.mit.edu). It consists of a single text file with several excerpts concatenated together. The data is in raw text form, and so far has not yet had any preprocessing. \n",
        "\n",
        "Your goal is to construct an unsupervised character-level sequence model that can generate text according to a distribution learned from the dataset."
      ]
    },
    {
      "cell_type": "markdown",
      "metadata": {
        "id": "2XZu3DSPRkE4"
      },
      "source": [
        "#### Import the data\n",
        "\n",
        "The dataset required for this project can be downloaded from the following link:\n",
        "\n",
        "https://drive.google.com/open?id=1pQI1ryDnuMKl5FtgBI9k9vXQ65S8xLv2\n",
        "\n",
        "You should store this file in Drive for use in this Colab notebook."
      ]
    },
    {
      "cell_type": "code",
      "metadata": {
        "id": "3fRagWNBR0-E",
        "outputId": "ccb1f57c-efd1-4dbb-c455-cef5c676392d",
        "colab": {
          "base_uri": "https://localhost:8080/"
        }
      },
      "source": [
        "# Run this cell to connect to your Drive folder\n",
        "\n",
        "from google.colab import drive\n",
        "drive.mount('/content/gdrive')"
      ],
      "execution_count": 2,
      "outputs": [
        {
          "output_type": "stream",
          "name": "stdout",
          "text": [
            "Mounted at /content/gdrive\n"
          ]
        }
      ]
    },
    {
      "cell_type": "markdown",
      "metadata": {
        "id": "ppOL7TDHRfSA"
      },
      "source": [
        "#### Load and inspect the dataset"
      ]
    },
    {
      "cell_type": "code",
      "metadata": {
        "id": "XXwzWcB-RfSD"
      },
      "source": [
        "# Load the text file into a string\n",
        "\n",
        "with open('/content/gdrive/MyDrive/colab/coursera/customising-your-model-with-tensorflow2/Shakespeare.txt', 'r', encoding='utf-8') as file:\n",
        "    text = file.read()"
      ],
      "execution_count": 3,
      "outputs": []
    },
    {
      "cell_type": "code",
      "metadata": {
        "id": "YzHw4wbCRfSH"
      },
      "source": [
        "# Create a list of chunks of text\n",
        "\n",
        "text_chunks = text.split('.')"
      ],
      "execution_count": 4,
      "outputs": []
    },
    {
      "cell_type": "markdown",
      "metadata": {
        "id": "pik73Zq2RfSO"
      },
      "source": [
        "To give you a feel for what the text looks like, we will print a few chunks from the list."
      ]
    },
    {
      "cell_type": "code",
      "metadata": {
        "id": "CMZj2MIYRfSP",
        "outputId": "a12bc152-96e7-416c-c0a5-5b0b7d51b04c",
        "colab": {
          "base_uri": "https://localhost:8080/"
        }
      },
      "source": [
        "# Display some randomly selected text samples\n",
        "\n",
        "num_samples = 5\n",
        "inx = np.random.choice(len(text_chunks), num_samples, replace=False)\n",
        "for chunk in np.array(text_chunks)[inx]:\n",
        "    print(chunk)"
      ],
      "execution_count": 5,
      "outputs": [
        {
          "output_type": "stream",
          "name": "stdout",
          "text": [
            "\n",
            "But your petition\n",
            "Is yet unanswer'd\n",
            "\n",
            "\n",
            "PROSPERO:\n",
            "Thou poisonous slave, got by the devil himself\n",
            "Upon thy wicked dam, come forth!\n",
            "\n",
            "CALIBAN:\n",
            "As wicked dew as e'er my mother brush'd\n",
            "With raven's feather from unwholesome fen\n",
            "Drop on you both! a south-west blow on ye\n",
            "And blister you all o'er!\n",
            "\n",
            "PROSPERO:\n",
            "For this, be sure, to-night thou shalt have cramps,\n",
            "Side-stitches that shall pen thy breath up; urchins\n",
            "Shall, for that vast of night that they may work,\n",
            "All exercise on thee; thou shalt be pinch'd\n",
            "As thick as honeycomb, each pinch more stinging\n",
            "Than bees that made 'em\n",
            "\n",
            "\n",
            "CAPULET:\n",
            "Things have fall'n out, sir, so unluckily,\n",
            "That we have had no time to move our daughter:\n",
            "Look you, she loved her kinsman Tybalt dearly,\n",
            "And so did I:--Well, we were born to die\n",
            "\n",
            "While you are thus employ'd, what resteth more,\n",
            "But that I seek occasion how to rise,\n",
            "And yet the king not privy to my drift,\n",
            "Nor any of the house of Lancaster?\n",
            "But, stay: what news? Why comest thou in such post?\n",
            "\n",
            "Messenger:\n",
            "The queen with all the northern earls and lords\n",
            "Intend here to besiege you in your castle:\n",
            "She is hard by with twenty thousand men;\n",
            "And therefore fortify your hold, my lord\n",
            "\n",
            "\n",
            "LUCIO:\n",
            "I believe thee; for I think thou never wast where\n",
            "grace was said\n"
          ]
        }
      ]
    },
    {
      "cell_type": "markdown",
      "metadata": {
        "id": "QSxfAsFARfSX"
      },
      "source": [
        "#### Create a character-level tokenizer"
      ]
    },
    {
      "cell_type": "markdown",
      "metadata": {
        "id": "SBukx3SDRfSY"
      },
      "source": [
        "You should now write a function that returns a `Tokenizer` object. The function takes a list of strings as an argument, and should create a `Tokenizer` according to the following specification:\n",
        "\n",
        "* The number of tokens should be unlimited (there should be as many as required by the dataset).\n",
        "* Tokens should be created at the character level (not at the word level, which is the default behaviour).\n",
        "* No characters should be filtered out or ignored.\n",
        "* The original capitalization should be retained (do not convert the text to lower case)\n",
        "\n",
        "The `Tokenizer` should be fit to the `list_of_strings` argument and returned by the function. \n",
        "\n",
        "**Hint:** you may need to refer to the [documentation](https://www.tensorflow.org/api_docs/python/tf/keras/preprocessing/text/Tokenizer) for the `Tokenizer`."
      ]
    },
    {
      "cell_type": "code",
      "metadata": {
        "id": "Q8s2aR4oRfSb"
      },
      "source": [
        "#### GRADED CELL ####\n",
        "\n",
        "# Complete the following function.\n",
        "# Make sure not to change the function name or arguments.\n",
        "\n",
        "def create_character_tokenizer(list_of_strings):\n",
        "    \"\"\"\n",
        "    This function takes a list of strings as its argument. It should create \n",
        "    and return a Tokenizer according to the above specifications. \n",
        "    \"\"\"\n",
        "    tokenizer = Tokenizer(lower=False, filters='', char_level=True)\n",
        "    tokenizer.fit_on_texts(list_of_strings)\n",
        "    return tokenizer\n",
        "\n",
        "    \n",
        "    "
      ],
      "execution_count": 6,
      "outputs": []
    },
    {
      "cell_type": "code",
      "metadata": {
        "id": "aKZpIcn_RfSf"
      },
      "source": [
        "# Get the tokenizer\n",
        "\n",
        "tokenizer = create_character_tokenizer(text_chunks)"
      ],
      "execution_count": 7,
      "outputs": []
    },
    {
      "cell_type": "markdown",
      "metadata": {
        "id": "gWObVg6DRfSi"
      },
      "source": [
        "#### Tokenize the text\n",
        "\n",
        "You should now write a function to use the tokenizer to map each string in `text_chunks` to its corresponding encoded sequence. The following function takes a fitted `Tokenizer` object in the first argument (as returned by `create_character_tokenizer`) and a list of strings in the second argument. The function should return a list of lists, where each sublist is a sequence of integer tokens encoding the text sequences according to the mapping stored in the tokenizer.\n",
        "\n",
        "**Hint:** you may need to refer to the [documentation](https://www.tensorflow.org/api_docs/python/tf/keras/preprocessing/text/Tokenizer) for the `Tokenizer`."
      ]
    },
    {
      "cell_type": "code",
      "metadata": {
        "id": "lkKDCvV1RfSj"
      },
      "source": [
        "#### GRADED CELL ####\n",
        "\n",
        "# Complete the following function.\n",
        "# Make sure not to change the function name or arguments.\n",
        "\n",
        "def strings_to_sequences(tokenizer, list_of_strings):\n",
        "    \"\"\"\n",
        "    This function takes a tokenizer object and a list of strings as its arguments.\n",
        "    It should use the tokenizer to map the text chunks to sequences of tokens and\n",
        "    then return this list of encoded sequences.\n",
        "    \"\"\"\n",
        "    return tokenizer.texts_to_sequences(list_of_strings)\n",
        "\n",
        "    \n",
        "    "
      ],
      "execution_count": 8,
      "outputs": []
    },
    {
      "cell_type": "code",
      "metadata": {
        "id": "hhYb2mSlRfSo"
      },
      "source": [
        "# Encode the text chunks into tokens\n",
        "\n",
        "seq_chunks = strings_to_sequences(tokenizer, text_chunks)"
      ],
      "execution_count": 9,
      "outputs": []
    },
    {
      "cell_type": "markdown",
      "metadata": {
        "id": "iRCN70xkRfSt"
      },
      "source": [
        "#### Pad the encoded sequences and store them in a numpy array"
      ]
    },
    {
      "cell_type": "markdown",
      "metadata": {
        "id": "3ucADRYoRfSu"
      },
      "source": [
        "Since not all of the text chunks are the same length, you will need to pad them in order to train on batches. You should now complete the following function, which takes the list of lists of tokens, and creates a single numpy array with the token sequences in the rows, according to the following specification:\n",
        "\n",
        "* The longest allowed sequence should be 500 tokens. Any sequence that is longer should be shortened by truncating the beginning of the sequence.\n",
        "* Use zeros for padding the sequences. The zero padding should be placed before the sequences as required.\n",
        "\n",
        "The function should then return the resulting numpy array.\n",
        "\n",
        "**Hint:** you may want to refer to the [documentation](https://www.tensorflow.org/api_docs/python/tf/keras/preprocessing/sequence/pad_sequences) for the `pad_sequences` function."
      ]
    },
    {
      "cell_type": "code",
      "metadata": {
        "id": "zLf-9KxWRfSw"
      },
      "source": [
        "#### GRADED CELL ####\n",
        "\n",
        "# Complete the following function.\n",
        "# Make sure not to change the function name or arguments.\n",
        "\n",
        "def make_padded_dataset(sequence_chunks):\n",
        "    \"\"\"\n",
        "    This function takes a list of lists of tokenized sequences, and transforms\n",
        "    them into a 2D numpy array, padding the sequences as necessary according to\n",
        "    the above specification. The function should then return the numpy array.\n",
        "    \"\"\"\n",
        "    return tf.keras.utils.pad_sequences(sequence_chunks, \n",
        "                                        maxlen=500, \n",
        "                                        padding='pre', \n",
        "                                        truncating='pre', \n",
        "                                        value=0)\n",
        "    \n",
        "    "
      ],
      "execution_count": 10,
      "outputs": []
    },
    {
      "cell_type": "code",
      "metadata": {
        "id": "IKB26MgJRfS0"
      },
      "source": [
        "# Pad the token sequence chunks and get the numpy array\n",
        "\n",
        "padded_sequences = make_padded_dataset(seq_chunks)"
      ],
      "execution_count": 11,
      "outputs": []
    },
    {
      "cell_type": "markdown",
      "metadata": {
        "id": "U-4W2iICRfS3"
      },
      "source": [
        "#### Create model inputs and targets\n",
        "\n",
        "Now you are ready to build your RNN model. The model will receive a sequence of characters and predict the next character in the sequence. At training time, the model can be passed an input sequence, with the target sequence is shifted by one.\n",
        "\n",
        "For example, the expression `To be or not to be` appears in Shakespeare's play 'Hamlet'. Given input `To be or not to b`, the correct prediction is `o be or not to be`. Notice that the prediction is the same length as the input!\n",
        "\n",
        "![sequence_prediction_example](https://github.com/gromag/Gym-NeuralNetwork/blob/master/Gym%2010%20-%20Customising%20Tensorflow/rnn_example.png?raw=1)\n",
        "\n",
        "You should now write the following function to create an input and target array from the current `padded_sequences` array. The function has a single argument that is a 2D numpy array of shape `(num_examples, max_seq_len)`. It should fulfil the following specification:\n",
        "\n",
        "* The function should return an input array and an output array, both of size `(num_examples, max_seq_len - 1)`.\n",
        "* The input array should contain the first `max_seq_len - 1` tokens of each sequence. \n",
        "* The output array should contain the last `max_seq_len - 1` tokens of each sequence. \n",
        "\n",
        "The function should then return the tuple `(input_array, output_array)`. Note that it is possible to complete this function using numpy indexing alone!"
      ]
    },
    {
      "cell_type": "code",
      "metadata": {
        "id": "pzLY5mT3RfS5"
      },
      "source": [
        "#### GRADED CELL ####\n",
        "\n",
        "# Complete the following function.\n",
        "# Make sure not to change the function name or arguments.\n",
        "\n",
        "def create_inputs_and_targets(array_of_sequences):\n",
        "    \"\"\"\n",
        "    This function takes a 2D numpy array of token sequences, and returns a tuple of two\n",
        "    elements: the first element is the input array and the second element is the output\n",
        "    array, which are defined according to the above specification.\n",
        "    \"\"\"   \n",
        "    return array_of_sequences[:,0:-1], array_of_sequences[:,1:]\n",
        "    "
      ],
      "execution_count": 12,
      "outputs": []
    },
    {
      "cell_type": "code",
      "metadata": {
        "id": "MzHXg9HcRfTB"
      },
      "source": [
        "# Create the input and output arrays\n",
        "\n",
        "input_seq, target_seq = create_inputs_and_targets(padded_sequences)"
      ],
      "execution_count": 13,
      "outputs": []
    },
    {
      "cell_type": "markdown",
      "metadata": {
        "id": "YFTEK7hnRfTJ"
      },
      "source": [
        "#### Preprocess sequence array for stateful RNN\n",
        "\n",
        "We will build our RNN language model to be stateful, so that the internal state of the RNN will be maintained across batches. For this to be effective, we need to make sure that each element of every batch follows on from the corresponding element of the preceding batch (you may want to look back at the \"Stateful RNNs\" reading notebook earlier in the week).\n",
        "\n",
        "The following code processes the input and output sequence arrays so that they are ready to be split into batches for training a stateful RNN, by re-ordering the sequence examples (the rows) according to a specified batch size. "
      ]
    },
    {
      "cell_type": "code",
      "metadata": {
        "id": "S4gsVamxRfTK"
      },
      "source": [
        "# Fix the batch size for training\n",
        "\n",
        "batch_size = 32"
      ],
      "execution_count": 14,
      "outputs": []
    },
    {
      "cell_type": "code",
      "metadata": {
        "id": "cJu9VgWFRfTP"
      },
      "source": [
        "# Prepare input and output arrays for training the stateful RNN\n",
        "\n",
        "num_examples = input_seq.shape[0]\n",
        "\n",
        "num_processed_examples = num_examples - (num_examples % batch_size)\n",
        "\n",
        "input_seq = input_seq[:num_processed_examples]\n",
        "target_seq = target_seq[:num_processed_examples]\n",
        "\n",
        "steps = int(num_processed_examples / 32)  # steps per epoch\n",
        "\n",
        "inx = np.empty((0,), dtype=np.int32)\n",
        "for i in range(steps):\n",
        "    inx = np.concatenate((inx, i + np.arange(0, num_processed_examples, steps)))\n",
        "\n",
        "input_seq_stateful = input_seq[inx]\n",
        "target_seq_stateful = target_seq[inx]"
      ],
      "execution_count": 15,
      "outputs": []
    },
    {
      "cell_type": "code",
      "source": [
        "input_seq.shape"
      ],
      "metadata": {
        "id": "91E9wd0Qt0Ev",
        "outputId": "47441c09-7b10-487c-c629-e3d4424f22d9",
        "colab": {
          "base_uri": "https://localhost:8080/"
        }
      },
      "execution_count": 16,
      "outputs": [
        {
          "output_type": "execute_result",
          "data": {
            "text/plain": [
              "(7872, 499)"
            ]
          },
          "metadata": {},
          "execution_count": 16
        }
      ]
    },
    {
      "cell_type": "markdown",
      "metadata": {
        "id": "Rm8gNoNJRfTT"
      },
      "source": [
        "#### Split the data into training and validation sets\n",
        "\n",
        "We will set aside approximately 20% of the data for validation."
      ]
    },
    {
      "cell_type": "code",
      "metadata": {
        "id": "iiLWfyemRfTU"
      },
      "source": [
        "# Create the training and validation splits\n",
        "\n",
        "num_train_examples = int(batch_size * ((0.8 * num_processed_examples) // batch_size))\n",
        "\n",
        "input_train = input_seq_stateful[:num_train_examples]\n",
        "target_train = target_seq_stateful[:num_train_examples]\n",
        "\n",
        "input_valid = input_seq_stateful[num_train_examples:]\n",
        "target_valid = target_seq_stateful[num_train_examples:]"
      ],
      "execution_count": 17,
      "outputs": []
    },
    {
      "cell_type": "markdown",
      "metadata": {
        "id": "FQ_mAEoPRfTX"
      },
      "source": [
        "#### Create training and validation Dataset objects\n",
        "\n",
        "You should now write a function to take the training and validation input and target arrays, and create training and validation `tf.data.Dataset` objects. The function takes an input array and target array in the first two arguments, and the batch size in the third argument. Your function should do the following:\n",
        "\n",
        "* Create a `Dataset` using the `from_tensor_slices` static method, passing in a tuple of the input and output numpy arrays.\n",
        "* Batch the `Dataset` using the `batch_size` argument, setting `drop_remainder` to `True`. \n",
        "\n",
        "The function should then return the `Dataset` object."
      ]
    },
    {
      "cell_type": "code",
      "metadata": {
        "id": "_DJAjEHKRfTY"
      },
      "source": [
        "#### GRADED CELL ####\n",
        "\n",
        "# Complete the following function.\n",
        "# Make sure not to change the function name or arguments.\n",
        "\n",
        "def make_Dataset(input_array, target_array, batch_size):\n",
        "    \"\"\"\n",
        "    This function takes two 2D numpy arrays in the first two arguments, and an integer\n",
        "    batch_size in the third argument. It should create and return a Dataset object \n",
        "    using the two numpy arrays and batch size according to the above specification.\n",
        "    \"\"\"\n",
        "    dataset = tf.data.Dataset.from_tensor_slices((input_array, target_array))\n",
        "    batch = dataset.batch(batch_size=batch_size, drop_remainder=True)\n",
        "    return batch\n",
        "    \n",
        "    "
      ],
      "execution_count": 18,
      "outputs": []
    },
    {
      "cell_type": "code",
      "metadata": {
        "id": "rzqK_qVARfTc"
      },
      "source": [
        "# Create the training and validation Datasets\n",
        "\n",
        "train_data = make_Dataset(input_train, target_train, batch_size)\n",
        "valid_data = make_Dataset(input_valid, target_valid, batch_size)"
      ],
      "execution_count": 19,
      "outputs": []
    },
    {
      "cell_type": "markdown",
      "metadata": {
        "id": "IKfaWcCCRfTf"
      },
      "source": [
        "#### Build the recurrent neural network model"
      ]
    },
    {
      "cell_type": "markdown",
      "metadata": {
        "id": "KcPyteqDRfTh"
      },
      "source": [
        "You are now ready to build your RNN character-level language model. You should write the following function to build the model; the function takes arguments for the batch size and vocabulary size (number of tokens). Using the Sequential API, your function should build your model according to the following specifications:\n",
        "\n",
        "* The first layer should be an Embedding layer with an embedding dimension of 256 and set the vocabulary size to `vocab_size` from the function argument.\n",
        "* The Embedding layer should also mask the zero padding in the input sequences.\n",
        "* The Embedding layer should also set the `batch_input_shape` to `(batch_size, None)` (a fixed batch size is required for stateful RNNs).\n",
        "* The next layer should be a (uni-directional) GRU layer with 1024 units, set to be a stateful RNN layer.\n",
        "* The GRU layer should return the full sequence, instead of just the output state at the final time step.\n",
        "* The final layer should be a Dense layer with `vocab_size` units and no activation function.\n",
        "\n",
        "In total, the network should have 3 layers."
      ]
    },
    {
      "cell_type": "code",
      "metadata": {
        "id": "oauekqOSRfTi"
      },
      "source": [
        "#### GRADED CELL ####\n",
        "\n",
        "# Complete the following function.\n",
        "# Make sure not to change the function name or arguments.\n",
        "\n",
        "def get_model(vocab_size, batch_size):\n",
        "    \"\"\"\n",
        "    This function takes a vocabulary size and batch size, and builds and returns a \n",
        "    Sequential model according to the above specification.\n",
        "    \"\"\"\n",
        "    model = Sequential([\n",
        "        # Note: vocab_size has already been increased by one when get_model() is called\n",
        "        Embedding(input_dim=vocab_size, output_dim=256, mask_zero=True, input_length=None, batch_input_shape=(batch_size, None)),\n",
        "        GRU(units=1024, stateful=True, return_sequences=True), \n",
        "        Dense(units=vocab_size)\n",
        "    ])\n",
        "\n",
        "    return model\n",
        "    \n",
        "    "
      ],
      "execution_count": 20,
      "outputs": []
    },
    {
      "cell_type": "code",
      "metadata": {
        "id": "AmmEfYo-RfTl",
        "colab": {
          "base_uri": "https://localhost:8080/"
        },
        "outputId": "86f4d35c-a5b6-4b94-d129-38e60a674f9f"
      },
      "source": [
        "# Build the model and print the model summary\n",
        "\n",
        "model = get_model(len(tokenizer.word_index) + 1, batch_size)\n",
        "model.summary()"
      ],
      "execution_count": 21,
      "outputs": [
        {
          "output_type": "stream",
          "name": "stdout",
          "text": [
            "Model: \"sequential\"\n",
            "_________________________________________________________________\n",
            " Layer (type)                Output Shape              Param #   \n",
            "=================================================================\n",
            " embedding (Embedding)       (32, None, 256)           16640     \n",
            "                                                                 \n",
            " gru (GRU)                   (32, None, 1024)          3938304   \n",
            "                                                                 \n",
            " dense (Dense)               (32, None, 65)            66625     \n",
            "                                                                 \n",
            "=================================================================\n",
            "Total params: 4,021,569\n",
            "Trainable params: 4,021,569\n",
            "Non-trainable params: 0\n",
            "_________________________________________________________________\n"
          ]
        }
      ]
    },
    {
      "cell_type": "markdown",
      "metadata": {
        "id": "4PJ4cU0YRfTo"
      },
      "source": [
        "#### Compile and train the model\n",
        "\n",
        "You are now ready to compile and train the model. For this model and dataset, the training time is very long. Therefore for this assignment it is not a requirement to train the model. We have pre-trained a model for you (using the code below) and saved the model weights, which can be loaded to get the model predictions. \n",
        "\n",
        "It is recommended to use accelerator hardware (e.g. using Colab) when training this model. It would also be beneficial to increase the size of the model, e.g. by stacking extra recurrent layers."
      ]
    },
    {
      "cell_type": "code",
      "source": [
        "# Copy saved models into Colab content directory\n",
        "! cp -R /content/gdrive/MyDrive/colab/coursera/customising-your-model-with-tensorflow2/models ./models"
      ],
      "metadata": {
        "id": "RiRummzGu23f"
      },
      "execution_count": 22,
      "outputs": []
    },
    {
      "cell_type": "code",
      "metadata": {
        "id": "62k8AD8eRfTp"
      },
      "source": [
        "# Choose whether to train a new model or load the pre-trained model\n",
        "\n",
        "skip_training = False"
      ],
      "execution_count": 23,
      "outputs": []
    },
    {
      "cell_type": "code",
      "metadata": {
        "id": "DJhnIUHSRfTt",
        "colab": {
          "base_uri": "https://localhost:8080/"
        },
        "outputId": "c7e5d4a8-a78a-4dca-9192-2716e740407c"
      },
      "source": [
        "# Compile and train the model, or load pre-trained weights\n",
        "\n",
        "if not skip_training:\n",
        "    checkpoint_callback=tf.keras.callbacks.ModelCheckpoint(filepath='./models/ckpt',\n",
        "                                                           save_weights_only=True,\n",
        "                                                           save_best_only=True)\n",
        "    model.compile(optimizer='adam', loss=tf.keras.losses.SparseCategoricalCrossentropy(from_logits=True),\n",
        "                  metrics=['sparse_categorical_accuracy'])\n",
        "    history = model.fit(train_data, epochs=15, validation_data=valid_data, \n",
        "                        validation_steps=50, callbacks=[checkpoint_callback])"
      ],
      "execution_count": 24,
      "outputs": [
        {
          "output_type": "stream",
          "name": "stdout",
          "text": [
            "Epoch 1/15\n",
            "196/196 [==============================] - 156s 764ms/step - loss: 0.6848 - sparse_categorical_accuracy: 0.3068 - val_loss: 0.5759 - val_sparse_categorical_accuracy: 0.4016\n",
            "Epoch 2/15\n",
            "196/196 [==============================] - 145s 742ms/step - loss: 0.5020 - sparse_categorical_accuracy: 0.4553 - val_loss: 0.4781 - val_sparse_categorical_accuracy: 0.4920\n",
            "Epoch 3/15\n",
            "196/196 [==============================] - 144s 733ms/step - loss: 0.4316 - sparse_categorical_accuracy: 0.5249 - val_loss: 0.4311 - val_sparse_categorical_accuracy: 0.5384\n",
            "Epoch 4/15\n",
            "196/196 [==============================] - 142s 726ms/step - loss: 0.3927 - sparse_categorical_accuracy: 0.5632 - val_loss: 0.4062 - val_sparse_categorical_accuracy: 0.5608\n",
            "Epoch 5/15\n",
            "196/196 [==============================] - 144s 734ms/step - loss: 0.3677 - sparse_categorical_accuracy: 0.5862 - val_loss: 0.3928 - val_sparse_categorical_accuracy: 0.5756\n",
            "Epoch 6/15\n",
            "196/196 [==============================] - 149s 759ms/step - loss: 0.3491 - sparse_categorical_accuracy: 0.6036 - val_loss: 0.3856 - val_sparse_categorical_accuracy: 0.5825\n",
            "Epoch 7/15\n",
            "196/196 [==============================] - 142s 723ms/step - loss: 0.3318 - sparse_categorical_accuracy: 0.6211 - val_loss: 0.3837 - val_sparse_categorical_accuracy: 0.5849\n",
            "Epoch 8/15\n",
            "196/196 [==============================] - 143s 730ms/step - loss: 0.3166 - sparse_categorical_accuracy: 0.6366 - val_loss: 0.3888 - val_sparse_categorical_accuracy: 0.5800\n",
            "Epoch 9/15\n",
            "196/196 [==============================] - 140s 717ms/step - loss: 0.3012 - sparse_categorical_accuracy: 0.6530 - val_loss: 0.3923 - val_sparse_categorical_accuracy: 0.5815\n",
            "Epoch 10/15\n",
            "196/196 [==============================] - 142s 725ms/step - loss: 0.2861 - sparse_categorical_accuracy: 0.6694 - val_loss: 0.4005 - val_sparse_categorical_accuracy: 0.5788\n",
            "Epoch 11/15\n",
            "196/196 [==============================] - 142s 726ms/step - loss: 0.2716 - sparse_categorical_accuracy: 0.6855 - val_loss: 0.4098 - val_sparse_categorical_accuracy: 0.5735\n",
            "Epoch 12/15\n",
            "196/196 [==============================] - 142s 721ms/step - loss: 0.2618 - sparse_categorical_accuracy: 0.6956 - val_loss: 0.4185 - val_sparse_categorical_accuracy: 0.5741\n",
            "Epoch 13/15\n",
            "196/196 [==============================] - 141s 717ms/step - loss: 0.2511 - sparse_categorical_accuracy: 0.7075 - val_loss: 0.4286 - val_sparse_categorical_accuracy: 0.5711\n",
            "Epoch 14/15\n",
            "196/196 [==============================] - 141s 718ms/step - loss: 0.2396 - sparse_categorical_accuracy: 0.7201 - val_loss: 0.4431 - val_sparse_categorical_accuracy: 0.5633\n",
            "Epoch 15/15\n",
            "196/196 [==============================] - 141s 718ms/step - loss: 0.2302 - sparse_categorical_accuracy: 0.7304 - val_loss: 0.4515 - val_sparse_categorical_accuracy: 0.5625\n"
          ]
        }
      ]
    },
    {
      "cell_type": "code",
      "metadata": {
        "id": "yqjTlQyoRfTx"
      },
      "source": [
        "# Save model history as a json file, or load it if using pre-trained weights\n",
        "\n",
        "if not skip_training:\n",
        "    history_dict = dict()\n",
        "    for k, v in history.history.items():\n",
        "        history_dict[k] = [float(val) for val in history.history[k]]\n",
        "    with open('models/history.json', 'w+') as json_file:\n",
        "        json.dump(history_dict, json_file, sort_keys=True, indent=4)\n",
        "else:\n",
        "    with open('models/history.json', 'r') as json_file:\n",
        "        history_dict = json.load(json_file)"
      ],
      "execution_count": 25,
      "outputs": []
    },
    {
      "cell_type": "markdown",
      "metadata": {
        "id": "upDpsmf9RfT2"
      },
      "source": [
        "#### Plot the learning curves"
      ]
    },
    {
      "cell_type": "code",
      "metadata": {
        "id": "gGpPk5bbRfT3",
        "colab": {
          "base_uri": "https://localhost:8080/",
          "height": 350
        },
        "outputId": "775a0fcf-18a6-49e1-9476-2bc8e3b555ab"
      },
      "source": [
        "# Run this cell to plot accuracy vs epoch and loss vs epoch\n",
        "\n",
        "plt.figure(figsize=(15,5))\n",
        "plt.subplot(121)\n",
        "plt.plot(history_dict['sparse_categorical_accuracy'])\n",
        "plt.plot(history_dict['val_sparse_categorical_accuracy'])\n",
        "plt.title('Accuracy vs. epochs')\n",
        "plt.ylabel('Accuracy')\n",
        "plt.xlabel('Epoch')\n",
        "plt.xticks(np.arange(len(history_dict['sparse_categorical_accuracy'])))\n",
        "ax = plt.gca()\n",
        "ax.set_xticklabels(1 + np.arange(len(history_dict['sparse_categorical_accuracy'])))\n",
        "plt.legend(['Training', 'Validation'], loc='lower right')\n",
        "\n",
        "plt.subplot(122)\n",
        "plt.plot(history_dict['loss'])\n",
        "plt.plot(history_dict['val_loss'])\n",
        "plt.title('Loss vs. epochs')\n",
        "plt.ylabel('Loss')\n",
        "plt.xlabel('Epoch')\n",
        "plt.xticks(np.arange(len(history_dict['sparse_categorical_accuracy'])))\n",
        "ax = plt.gca()\n",
        "ax.set_xticklabels(1 + np.arange(len(history_dict['sparse_categorical_accuracy'])))\n",
        "plt.legend(['Training', 'Validation'], loc='upper right')\n",
        "plt.show() "
      ],
      "execution_count": 26,
      "outputs": [
        {
          "output_type": "display_data",
          "data": {
            "text/plain": [
              "<Figure size 1080x360 with 2 Axes>"
            ],
            "image/png": "[encoded data removed]"
          },
          "metadata": {
            "needs_background": "light"
          }
        }
      ]
    },
    {
      "cell_type": "markdown",
      "metadata": {
        "id": "2msBeLSoRfT7"
      },
      "source": [
        "#### Write a text generation algorithm\n",
        "\n",
        "You can now use the model to generate text! In order to generate a single text sequence, the model needs to be rebuilt with a batch size of 1."
      ]
    },
    {
      "cell_type": "code",
      "metadata": {
        "id": "zzQW69qxRfT_",
        "colab": {
          "base_uri": "https://localhost:8080/"
        },
        "outputId": "5a397be7-6343-4b87-cbd0-6c68797197c0"
      },
      "source": [
        "# Re-build the model and load the saved weights\n",
        "\n",
        "model = get_model(len(tokenizer.word_index) + 1, batch_size=1)\n",
        "model.load_weights(tf.train.latest_checkpoint('./models/'))"
      ],
      "execution_count": 27,
      "outputs": [
        {
          "output_type": "execute_result",
          "data": {
            "text/plain": [
              "<tensorflow.python.training.tracking.util.CheckpointLoadStatus at 0x7f9a4206ea00>"
            ]
          },
          "metadata": {},
          "execution_count": 27
        }
      ]
    },
    {
      "cell_type": "markdown",
      "metadata": {
        "id": "TM3LHQAgRfUD"
      },
      "source": [
        "An algorithm to generate text is as follows:\n",
        "\n",
        "1. Specify a seed string (e.g. `'ROMEO:'`) to get the network started, and a define number of characters for the model to generate, `num_generation_steps`.\n",
        "2. Tokenize this sentence to obtain a list containing one list of the integer tokens.\n",
        "3. Reset the initial state of the network. \n",
        "4. Convert the token list into a Tensor (or numpy array) and pass it to your model as a batch of size one.\n",
        "5. Get the model prediction (logits) for the last time step and extract the state of the recurrent layer.\n",
        "6. Use the logits to construct a categorical distribution and sample a token from it.\n",
        "7. Repeat the following for `num_generation_steps - 1` steps:\n",
        "\n",
        "    1. Use the saved state of the recurrent layer and the last sampled token to get new logit predictions\n",
        "    2. Use the logits to construct a new categorical distribution and sample a token from it.\n",
        "    3. Save the updated state of the recurrent layer.    \n",
        "\n",
        "8. Take the final list of tokens and convert to text using the Tokenizer.\n",
        "\n",
        "Note that the internal state of the recurrent layer can be accessed using the `states` property. For the GRU layer, it is a list of one variable:"
      ]
    },
    {
      "cell_type": "code",
      "metadata": {
        "id": "DDbzdt0LRfUE",
        "colab": {
          "base_uri": "https://localhost:8080/"
        },
        "outputId": "403f1ade-9a61-4659-de12-ed0942ead43a"
      },
      "source": [
        "# Inspect the model's current recurrent state\n",
        "\n",
        "model.layers[1].states"
      ],
      "execution_count": 28,
      "outputs": [
        {
          "output_type": "execute_result",
          "data": {
            "text/plain": [
              "[<tf.Variable 'gru_1/Variable:0' shape=(1, 1024) dtype=float32, numpy=array([[0., 0., 0., ..., 0., 0., 0.]], dtype=float32)>]"
            ]
          },
          "metadata": {},
          "execution_count": 28
        }
      ]
    },
    {
      "cell_type": "markdown",
      "metadata": {
        "id": "2KvmtkvrRfUI"
      },
      "source": [
        "We will break the algorithm down into two steps. First, you should now complete the following function that takes a sequence of tokens of any length and returns the model's prediction (the logits) for the last time step. The specification is as follows:\n",
        "\n",
        "* The token sequence will be a python list, containing one list of integer tokens, e.g. `[[1, 2, 3, 4]]`\n",
        "* The function should convert the list into a 2D Tensor or numpy array\n",
        "* If the function argument `initial_state` is `None`, then the function should reset the state of the recurrent layer to zeros.\n",
        "* Otherwise, if the function argument `initial_state` is a 2D Tensor or numpy array, assign the value of the internal state of the GRU layer to this argument.\n",
        "* Get the model's prediction (logits) for the last time step only.\n",
        "\n",
        "The function should then return the logits as a 2D numpy array, where the first dimension is equal to 1 (batch size).\n",
        "\n",
        "**Hint:** the internal state of the recurrent can be reset to zeros using the `reset_states` method."
      ]
    },
    {
      "cell_type": "code",
      "source": [
        "! cp -R ./models /content/gdrive/MyDrive/colab/coursera/customising-your-model-with-tensorflow2/models"
      ],
      "metadata": {
        "id": "T8es7OFIqrwb"
      },
      "execution_count": 29,
      "outputs": []
    },
    {
      "cell_type": "code",
      "source": [
        "model.layers"
      ],
      "metadata": {
        "id": "sYnYL92c5vEC",
        "outputId": "22e8285d-6757-409d-fbdb-2ab508571cb1",
        "colab": {
          "base_uri": "https://localhost:8080/"
        }
      },
      "execution_count": 30,
      "outputs": [
        {
          "output_type": "execute_result",
          "data": {
            "text/plain": [
              "[<keras.layers.core.embedding.Embedding at 0x7f9a42176d30>,\n",
              " <keras.layers.rnn.gru.GRU at 0x7f9a42176b80>,\n",
              " <keras.layers.core.dense.Dense at 0x7f9b4c16db50>]"
            ]
          },
          "metadata": {},
          "execution_count": 30
        }
      ]
    },
    {
      "cell_type": "code",
      "metadata": {
        "id": "3aHg6y44RfUJ"
      },
      "source": [
        "#### GRADED CELL ####\n",
        "\n",
        "# Complete the following function.\n",
        "# Make sure not to change the function name or arguments.\n",
        "\n",
        "def get_logits(model, token_sequence, initial_state=None):\n",
        "    \"\"\"\n",
        "    This function takes a model object, a token sequence and an optional initial\n",
        "    state for the recurrent layer. The function should return the logits prediction\n",
        "    for the final time step as a 2D numpy array.\n",
        "    \"\"\"\n",
        "\n",
        "    # if initial_state is None, reset_states automatically resets to 0s, otherwise\n",
        "    # to the Numpy arrays passed in initial_state. \n",
        "    # see docs https://www.tensorflow.org/api_docs/python/tf/keras/layers/GRU#reset_states\n",
        "    model.layers[1].reset_states(states=initial_state)\n",
        "    input = tf.convert_to_tensor(token_sequence)\n",
        "    return np.squeeze(model(input), 0)\n",
        "    \n",
        "    "
      ],
      "execution_count": 31,
      "outputs": []
    },
    {
      "cell_type": "code",
      "metadata": {
        "id": "La2CNRzqRfUN",
        "colab": {
          "base_uri": "https://localhost:8080/"
        },
        "outputId": "0f842f7f-2d90-4ac8-9740-cf1a0a7bfd77"
      },
      "source": [
        "# Test the get_logits function by passing a dummy token sequence\n",
        "\n",
        "dummy_initial_state = tf.random.normal(model.layers[1].states[0].shape)\n",
        "get_logits(model, [[1, 2, 3, 4]], initial_state=dummy_initial_state)"
      ],
      "execution_count": 32,
      "outputs": [
        {
          "output_type": "execute_result",
          "data": {
            "text/plain": [
              "array([[ -1.7032288 ,  -7.6502256 ,   0.4504049 ,   2.2843423 ,\n",
              "          4.6858344 ,   3.5476747 ,   2.3959687 ,   0.6989739 ,\n",
              "         -1.6336697 ,  -0.19573894,   1.5737929 ,  -2.291714  ,\n",
              "          0.7943358 ,   0.72509384,   1.7732244 ,   1.0534475 ,\n",
              "          1.9087213 ,  -8.556687  ,   0.17403114,   3.325571  ,\n",
              "         -0.6710258 ,   0.38660884,   2.6375859 ,  -0.5835932 ,\n",
              "          1.8812662 ,  -6.8766003 ,   2.2874167 ,   2.8262372 ,\n",
              "          1.0569308 ,   1.2770463 ,  -1.7407342 ,  -1.048093  ,\n",
              "          3.0886712 ,   0.3228802 ,   2.5930848 ,   0.6527944 ,\n",
              "          2.8860476 ,   2.0629466 ,  -6.728902  ,   0.2682123 ,\n",
              "         -2.4467978 ,   4.2650805 ,   2.068964  ,   1.3277233 ,\n",
              "         -7.884745  ,   2.466426  ,  -4.771613  ,   2.302364  ,\n",
              "         -6.98834   ,   1.4696195 ,   0.5460133 ,   2.2689476 ,\n",
              "          2.633237  ,   3.8008358 ,   1.1886408 ,   1.6766871 ,\n",
              "         -2.1245253 ,  -4.553331  ,   1.4293145 ,   1.4011211 ,\n",
              "         -4.2356896 ,  -1.6903718 ,  -1.273681  ,  -0.46649435,\n",
              "         -2.3648057 ],\n",
              "       [ -3.2344096 ,   0.19203396,   2.778907  ,   1.7774532 ,\n",
              "          0.7411745 ,   5.3911896 ,   0.93642557,   2.489348  ,\n",
              "          2.3596432 ,   5.1216116 ,   2.0089304 ,  -2.5516307 ,\n",
              "          6.0776134 ,   3.1988566 ,  -0.7771015 ,   2.711539  ,\n",
              "          4.713881  ,  -0.3069743 ,   1.1563867 ,   3.3120298 ,\n",
              "         -2.6778843 ,   1.2878418 ,  -2.4112186 ,  -0.03199045,\n",
              "          3.8368948 ,  -1.3149117 ,  -2.9791641 ,   7.5293407 ,\n",
              "         -5.5314755 ,  -4.4279466 ,   0.8575715 ,  -2.4091334 ,\n",
              "         -6.969197  ,  -6.2972894 ,  -3.1581266 ,  -5.5200067 ,\n",
              "         -3.8512187 ,  -7.0455747 ,  -1.6534797 ,  -3.7279532 ,\n",
              "        -10.1794615 ,  -4.737573  ,  -3.7176762 ,  -2.734586  ,\n",
              "         -3.3603096 ,  -5.5226398 ,  -1.8970143 ,  -1.4166244 ,\n",
              "         -3.080172  ,  -2.1678216 ,  -6.3378744 ,  -3.036923  ,\n",
              "         -4.3668127 ,  -1.4629304 ,   1.0991855 ,   1.8146344 ,\n",
              "          6.2010145 ,  -3.430696  ,  -2.234579  ,  -1.940966  ,\n",
              "         -4.0775433 ,  -1.5631782 ,  -4.8762918 ,  -2.5160658 ,\n",
              "         -3.025653  ],\n",
              "       [ -5.580021  ,   1.9095831 ,   4.385534  ,   5.7370076 ,\n",
              "          1.607511  ,   3.4387124 ,   4.239847  ,   3.30553   ,\n",
              "          3.348395  ,   1.7872909 ,   3.5483952 ,  -0.20767295,\n",
              "         -0.7875588 ,  -1.6222951 ,   3.1063883 ,   0.84874   ,\n",
              "          2.5565784 ,   2.443344  ,   2.3328035 ,   4.293459  ,\n",
              "          4.3736362 ,  -0.53046316,  -3.3606286 ,   0.28718066,\n",
              "         -0.6261842 ,   1.8356972 ,  -5.990249  ,  -0.08996268,\n",
              "         -2.7511    ,  -4.133161  ,  -1.7808441 ,  -3.6809537 ,\n",
              "         -8.293406  ,  -6.967441  ,  -1.635138  ,  -5.9799333 ,\n",
              "         -3.6698792 ,  -2.616215  ,   0.955553  ,  -3.6764414 ,\n",
              "         -7.31772   ,  -3.013756  ,  -6.4088244 ,  -4.07706   ,\n",
              "         -0.41728032,  -5.1640205 ,   1.1725456 ,  -6.9098053 ,\n",
              "         -4.2052293 ,  -2.8256528 ,  -6.7457266 ,  -4.471669  ,\n",
              "         -6.7384844 ,  -6.8145223 ,   0.53112704,  -0.80923456,\n",
              "         -3.674883  ,  -1.9591843 ,  -6.4822097 ,  -4.11289   ,\n",
              "         -3.0059464 ,  -5.8182135 ,  -6.9898624 ,  -7.096719  ,\n",
              "         -5.2934985 ],\n",
              "       [ -6.18956   ,   1.9287275 ,   3.4323974 ,   1.7078611 ,\n",
              "          4.0064926 ,  -0.07918336,  -6.1145425 ,   3.1037219 ,\n",
              "         10.434438  ,   5.9306827 ,   1.2553998 ,   1.2011507 ,\n",
              "          7.434562  ,   2.9076371 ,   7.094714  ,   7.7828455 ,\n",
              "         -2.7354157 ,   2.0849051 ,   2.377007  ,   1.1768675 ,\n",
              "          3.9376822 ,  -1.419466  ,  -9.147952  ,   0.47137058,\n",
              "          4.1165957 ,   0.50059533,  -8.95652   ,  -1.0073453 ,\n",
              "          0.54657394,  -5.110898  ,  -0.44651002,  -9.98425   ,\n",
              "         -7.5870004 ,  -2.1969125 ,  -3.77104   ,  -3.8729942 ,\n",
              "         -4.1270156 ,  -5.04179   ,  -0.1401802 ,  -6.940538  ,\n",
              "         -8.298586  ,  -7.2545543 ,  -2.6352177 ,  -5.090584  ,\n",
              "         -1.024913  ,  -3.4573612 ,   0.91050446,  -5.917349  ,\n",
              "          0.26951176,  -6.239493  ,  -8.308675  ,  -3.7766657 ,\n",
              "         -5.1950054 ,  -4.9832506 ,  -3.907254  ,  -0.8568992 ,\n",
              "         -1.0536325 ,  -0.5152134 ,  -6.1147346 ,  -7.669941  ,\n",
              "         -5.9306    ,  -4.6808276 ,  -7.359202  ,  -6.422534  ,\n",
              "         -5.153633  ]], dtype=float32)"
            ]
          },
          "metadata": {},
          "execution_count": 32
        }
      ]
    },
    {
      "cell_type": "markdown",
      "metadata": {
        "id": "KcMB8Yv5RfUQ"
      },
      "source": [
        "You should now write a function that takes a logits prediction similar to the above, uses it to create a categorical distribution, and samples a token from this distribution. The following function takes a 2D numpy array `logits` as an argument, and should return a single integer prediction that is sampled from the categorical distribution. \n",
        "\n",
        "**Hint:** you might find the `tf.random.categorical` function useful for this; see the documentation [here](https://www.tensorflow.org/api_docs/python/tf/random/categorical)."
      ]
    },
    {
      "cell_type": "code",
      "metadata": {
        "id": "LObVBMdzRfUS"
      },
      "source": [
        "#### GRADED CELL ####\n",
        "\n",
        "# Complete the following function.\n",
        "# Make sure not to change the function name or arguments.\n",
        "\n",
        "def sample_token(logits):\n",
        "    \"\"\"\n",
        "    This function takes a 2D numpy array as an input, and constructs a \n",
        "    categorical distribution using it. It should then sample from this\n",
        "    distribution and return the sample as a single integer.\n",
        "    \"\"\"\n",
        "    return int(np.squeeze(tf.random.categorical(logits, 1)[-1]))\n",
        "    \n",
        "    "
      ],
      "execution_count": 33,
      "outputs": []
    },
    {
      "cell_type": "code",
      "metadata": {
        "id": "MrgPsuOYRfUV",
        "colab": {
          "base_uri": "https://localhost:8080/"
        },
        "outputId": "2592a139-5d3c-4c02-c918-e5daf395e8c4"
      },
      "source": [
        "# Test the sample_token function by passing dummy logits\n",
        "\n",
        "dummy_initial_state = tf.random.normal(model.layers[1].states[0].shape)\n",
        "dummy_logits = get_logits(model, [[1, 2, 3, 4]], initial_state=dummy_initial_state)\n",
        "sample_token(dummy_logits)"
      ],
      "execution_count": 34,
      "outputs": [
        {
          "output_type": "execute_result",
          "data": {
            "text/plain": [
              "8"
            ]
          },
          "metadata": {},
          "execution_count": 34
        }
      ]
    },
    {
      "cell_type": "code",
      "metadata": {
        "id": "Q23e4MNpRfUY",
        "colab": {
          "base_uri": "https://localhost:8080/"
        },
        "outputId": "792357b7-705a-4f42-eaac-7bde0113762a"
      },
      "source": [
        "logits_size = dummy_logits.shape[1]\n",
        "dummy_logits = -np.inf*np.ones((1, logits_size))\n",
        "dummy_logits[0, 20] = 0\n",
        "sample_token(dummy_logits)\n",
        "random_inx = np.random.choice(logits_size, 2, replace=False)\n",
        "random_inx1, random_inx2 = random_inx[0], random_inx[1]\n",
        "print(random_inx1, random_inx2)\n",
        "dummy_logits = -np.inf*np.ones((1, logits_size))\n",
        "dummy_logits[0, random_inx1] = 0\n",
        "dummy_logits[0, random_inx2] = 0\n",
        "sampled_token = []\n",
        "for _ in range(100):\n",
        "    sampled_token.append(sample_token(dummy_logits))\n",
        "    \n",
        "l_tokens, l_counts = np.unique(np.array(sampled_token), return_counts=True)\n",
        "len(l_tokens) == 2"
      ],
      "execution_count": 35,
      "outputs": [
        {
          "output_type": "stream",
          "name": "stdout",
          "text": [
            "9 62\n"
          ]
        },
        {
          "output_type": "execute_result",
          "data": {
            "text/plain": [
              "True"
            ]
          },
          "metadata": {},
          "execution_count": 35
        }
      ]
    },
    {
      "cell_type": "markdown",
      "metadata": {
        "id": "7A0FOxOTRfUc"
      },
      "source": [
        "#### Generate text from the model\n",
        "\n",
        "You are now ready to generate text from the model!"
      ]
    },
    {
      "cell_type": "code",
      "metadata": {
        "id": "KgXNTiaYRfUd"
      },
      "source": [
        "# Create a seed string and number of generation steps\n",
        "\n",
        "init_string = 'ROMEO:'\n",
        "num_generation_steps = 1000"
      ],
      "execution_count": 36,
      "outputs": []
    },
    {
      "cell_type": "code",
      "metadata": {
        "id": "6jm4JeyyRfUf",
        "colab": {
          "base_uri": "https://localhost:8080/"
        },
        "outputId": "fbc2dfb6-7235-4053-9e9c-a6f0d761b11c"
      },
      "source": [
        "# Use the model to generate a token sequence\n",
        "\n",
        "token_sequence = tokenizer.texts_to_sequences([init_string])\n",
        "initial_state = None\n",
        "input_sequence = token_sequence\n",
        "\n",
        "for _ in range(num_generation_steps):\n",
        "    # print(input_sequence)\n",
        "    logits = get_logits(model, input_sequence, initial_state=initial_state)\n",
        "    # print(logits.shape)\n",
        "    sampled_token = sample_token(logits)\n",
        "    # print(sampled_token)\n",
        "    token_sequence[0].append(sampled_token)\n",
        "    input_sequence = [[sampled_token]]\n",
        "    initial_state = model.layers[1].states[0].numpy()\n",
        "    \n",
        "print(tokenizer.sequences_to_texts(token_sequence)[0][::2])"
      ],
      "execution_count": 37,
      "outputs": [
        {
          "output_type": "stream",
          "name": "stdout",
          "text": [
            "ROMEO:\n",
            "What must thou worth and hunt possible\n",
            "Thy father faved liver, to hell thereof\n",
            "Treses I give no fire recoven at my can:\n",
            "The kingdiment barfied and high the present men\n",
            "These, joy that being makes sworn your gates\n",
            "Thrive me thy remeditable and that her,\n",
            "As the day-for'd foul time; and then to make great while!\n",
            "You have done that he will not, how he mother\n",
            "Is made the tent that I respect the man\n",
            "Provontes, and to duff we perceds; shall me\n",
            "with the time thou happy ty-mind myself may going\n",
            "that shows it friends, she was call open in:nester'd,\n",
            "And makes fer this your worship's can my wars\n",
            "Ophowon, up, to go with the devil's fortu,\n",
            "Than the people, come forth grave me, my legg'd anticol\n",
            "Speak grief, my liege; amarura! the KAppions hand!\n",
            "That would I never where he kneward the bar,\n",
            "Hence is venom, his chorich is left this ames\n",
            "Make do to like the sire O itness\n",
            "and therefore apited thy mother: shall be hence\n",
            "To mine appleasent; here stand us: yet,--\n",
            "Plessey mother, say, sirenca come and The w\n"
          ]
        }
      ]
    },
    {
      "cell_type": "markdown",
      "metadata": {
        "id": "O9mUfLUyRfUl"
      },
      "source": [
        "Congratulations for completing this programming assignment! In the next week of the course we will see how to build customised models and layers, and make custom training loops."
      ]
    },
    {
      "cell_type": "code",
      "source": [],
      "metadata": {
        "id": "7PQh-iD0_uN5"
      },
      "execution_count": null,
      "outputs": []
    }
  ]
}