{
  "nbformat": 4,
  "nbformat_minor": 0,
  "metadata": {
    "kernelspec": {
      "name": "python3",
      "display_name": "Python 3"
    },
    "colab": {
      "name": "Device placement.ipynb",
      "provenance": [],
      "include_colab_link": true
    },
    "accelerator": "GPU"
  },
  "cells": [
    {
      "cell_type": "markdown",
      "metadata": {
        "id": "view-in-github",
        "colab_type": "text"
      },
      "source": [
        "<a href=\"https://colab.research.google.com/github/gromag/Gym-NeuralNetwork/blob/master/Gym%2010%20-%20Customising%20Tensorflow/Coursera_Week1_Device_placement.ipynb\" target=\"_parent\"><img src=\"https://colab.research.google.com/assets/colab-badge.svg\" alt=\"Open In Colab\"/></a>"
      ]
    },
    {
      "cell_type": "markdown",
      "metadata": {
        "id": "R8EuPVDK0oXX"
      },
      "source": [
        "# Device placement\n"
      ]
    },
    {
      "cell_type": "markdown",
      "metadata": {
        "id": "SMepbBP-0oXb"
      },
      "source": [
        "In this reading, we are going to be looking at device placement. We will see how to access the device associated to a given tensor, and compare the use of GPUs and CPUs.\n",
        "\n",
        "When running this notebook, ensure that the GPU runtime type is selected (Runtime -> Change runtime type)."
      ]
    },
    {
      "cell_type": "code",
      "metadata": {
        "id": "cGJhiWHQ0oXd",
        "colab": {
          "base_uri": "https://localhost:8080/"
        },
        "outputId": "c6b9459b-ba75-476b-8ec3-19377f1808b0"
      },
      "source": [
        "! pip install tensorflow==2.1.0\n",
        "import tensorflow as tf\n",
        "print(tf.__version__)"
      ],
      "execution_count": 1,
      "outputs": [
        {
          "output_type": "stream",
          "name": "stdout",
          "text": [
            "Collecting tensorflow==2.1.0\n",
            "  Downloading tensorflow-2.1.0-cp37-cp37m-manylinux2010_x86_64.whl (421.8 MB)\n",
            "\u001b[K     |████████████████████████████████| 421.8 MB 27 kB/s \n",
            "\u001b[?25hRequirement already satisfied: scipy==1.4.1 in /usr/local/lib/python3.7/dist-packages (from tensorflow==2.1.0) (1.4.1)\n",
            "Requirement already satisfied: astor>=0.6.0 in /usr/local/lib/python3.7/dist-packages (from tensorflow==2.1.0) (0.8.1)\n",
            "Requirement already satisfied: keras-preprocessing>=1.1.0 in /usr/local/lib/python3.7/dist-packages (from tensorflow==2.1.0) (1.1.2)\n",
            "Requirement already satisfied: termcolor>=1.1.0 in /usr/local/lib/python3.7/dist-packages (from tensorflow==2.1.0) (1.1.0)\n",
            "Requirement already satisfied: absl-py>=0.7.0 in /usr/local/lib/python3.7/dist-packages (from tensorflow==2.1.0) (0.12.0)\n",
            "Requirement already satisfied: six>=1.12.0 in /usr/local/lib/python3.7/dist-packages (from tensorflow==2.1.0) (1.15.0)\n",
            "Requirement already satisfied: opt-einsum>=2.3.2 in /usr/local/lib/python3.7/dist-packages (from tensorflow==2.1.0) (3.3.0)\n",
            "Requirement already satisfied: grpcio>=1.8.6 in /usr/local/lib/python3.7/dist-packages (from tensorflow==2.1.0) (1.43.0)\n",
            "Requirement already satisfied: google-pasta>=0.1.6 in /usr/local/lib/python3.7/dist-packages (from tensorflow==2.1.0) (0.2.0)\n",
            "Requirement already satisfied: protobuf>=3.8.0 in /usr/local/lib/python3.7/dist-packages (from tensorflow==2.1.0) (3.17.3)\n",
            "Collecting tensorboard<2.2.0,>=2.1.0\n",
            "  Downloading tensorboard-2.1.1-py3-none-any.whl (3.8 MB)\n",
            "\u001b[K     |████████████████████████████████| 3.8 MB 66.8 MB/s \n",
            "\u001b[?25hRequirement already satisfied: wheel>=0.26 in /usr/local/lib/python3.7/dist-packages (from tensorflow==2.1.0) (0.37.1)\n",
            "Collecting gast==0.2.2\n",
            "  Downloading gast-0.2.2.tar.gz (10 kB)\n",
            "Requirement already satisfied: wrapt>=1.11.1 in /usr/local/lib/python3.7/dist-packages (from tensorflow==2.1.0) (1.13.3)\n",
            "Requirement already satisfied: numpy<2.0,>=1.16.0 in /usr/local/lib/python3.7/dist-packages (from tensorflow==2.1.0) (1.19.5)\n",
            "Collecting keras-applications>=1.0.8\n",
            "  Downloading Keras_Applications-1.0.8-py3-none-any.whl (50 kB)\n",
            "\u001b[K     |████████████████████████████████| 50 kB 9.2 MB/s \n",
            "\u001b[?25hCollecting tensorflow-estimator<2.2.0,>=2.1.0rc0\n",
            "  Downloading tensorflow_estimator-2.1.0-py2.py3-none-any.whl (448 kB)\n",
            "\u001b[K     |████████████████████████████████| 448 kB 71.3 MB/s \n",
            "\u001b[?25hRequirement already satisfied: h5py in /usr/local/lib/python3.7/dist-packages (from keras-applications>=1.0.8->tensorflow==2.1.0) (3.1.0)\n",
            "Requirement already satisfied: markdown>=2.6.8 in /usr/local/lib/python3.7/dist-packages (from tensorboard<2.2.0,>=2.1.0->tensorflow==2.1.0) (3.3.6)\n",
            "Requirement already satisfied: google-auth-oauthlib<0.5,>=0.4.1 in /usr/local/lib/python3.7/dist-packages (from tensorboard<2.2.0,>=2.1.0->tensorflow==2.1.0) (0.4.6)\n",
            "Requirement already satisfied: werkzeug>=0.11.15 in /usr/local/lib/python3.7/dist-packages (from tensorboard<2.2.0,>=2.1.0->tensorflow==2.1.0) (1.0.1)\n",
            "Requirement already satisfied: setuptools>=41.0.0 in /usr/local/lib/python3.7/dist-packages (from tensorboard<2.2.0,>=2.1.0->tensorflow==2.1.0) (57.4.0)\n",
            "Requirement already satisfied: requests<3,>=2.21.0 in /usr/local/lib/python3.7/dist-packages (from tensorboard<2.2.0,>=2.1.0->tensorflow==2.1.0) (2.23.0)\n",
            "Requirement already satisfied: google-auth<2,>=1.6.3 in /usr/local/lib/python3.7/dist-packages (from tensorboard<2.2.0,>=2.1.0->tensorflow==2.1.0) (1.35.0)\n",
            "Requirement already satisfied: rsa<5,>=3.1.4 in /usr/local/lib/python3.7/dist-packages (from google-auth<2,>=1.6.3->tensorboard<2.2.0,>=2.1.0->tensorflow==2.1.0) (4.8)\n",
            "Requirement already satisfied: pyasn1-modules>=0.2.1 in /usr/local/lib/python3.7/dist-packages (from google-auth<2,>=1.6.3->tensorboard<2.2.0,>=2.1.0->tensorflow==2.1.0) (0.2.8)\n",
            "Requirement already satisfied: cachetools<5.0,>=2.0.0 in /usr/local/lib/python3.7/dist-packages (from google-auth<2,>=1.6.3->tensorboard<2.2.0,>=2.1.0->tensorflow==2.1.0) (4.2.4)\n",
            "Requirement already satisfied: requests-oauthlib>=0.7.0 in /usr/local/lib/python3.7/dist-packages (from google-auth-oauthlib<0.5,>=0.4.1->tensorboard<2.2.0,>=2.1.0->tensorflow==2.1.0) (1.3.0)\n",
            "Requirement already satisfied: importlib-metadata>=4.4 in /usr/local/lib/python3.7/dist-packages (from markdown>=2.6.8->tensorboard<2.2.0,>=2.1.0->tensorflow==2.1.0) (4.10.0)\n",
            "Requirement already satisfied: zipp>=0.5 in /usr/local/lib/python3.7/dist-packages (from importlib-metadata>=4.4->markdown>=2.6.8->tensorboard<2.2.0,>=2.1.0->tensorflow==2.1.0) (3.7.0)\n",
            "Requirement already satisfied: typing-extensions>=3.6.4 in /usr/local/lib/python3.7/dist-packages (from importlib-metadata>=4.4->markdown>=2.6.8->tensorboard<2.2.0,>=2.1.0->tensorflow==2.1.0) (3.10.0.2)\n",
            "Requirement already satisfied: pyasn1<0.5.0,>=0.4.6 in /usr/local/lib/python3.7/dist-packages (from pyasn1-modules>=0.2.1->google-auth<2,>=1.6.3->tensorboard<2.2.0,>=2.1.0->tensorflow==2.1.0) (0.4.8)\n",
            "Requirement already satisfied: certifi>=2017.4.17 in /usr/local/lib/python3.7/dist-packages (from requests<3,>=2.21.0->tensorboard<2.2.0,>=2.1.0->tensorflow==2.1.0) (2021.10.8)\n",
            "Requirement already satisfied: idna<3,>=2.5 in /usr/local/lib/python3.7/dist-packages (from requests<3,>=2.21.0->tensorboard<2.2.0,>=2.1.0->tensorflow==2.1.0) (2.10)\n",
            "Requirement already satisfied: chardet<4,>=3.0.2 in /usr/local/lib/python3.7/dist-packages (from requests<3,>=2.21.0->tensorboard<2.2.0,>=2.1.0->tensorflow==2.1.0) (3.0.4)\n",
            "Requirement already satisfied: urllib3!=1.25.0,!=1.25.1,<1.26,>=1.21.1 in /usr/local/lib/python3.7/dist-packages (from requests<3,>=2.21.0->tensorboard<2.2.0,>=2.1.0->tensorflow==2.1.0) (1.24.3)\n",
            "Requirement already satisfied: oauthlib>=3.0.0 in /usr/local/lib/python3.7/dist-packages (from requests-oauthlib>=0.7.0->google-auth-oauthlib<0.5,>=0.4.1->tensorboard<2.2.0,>=2.1.0->tensorflow==2.1.0) (3.1.1)\n",
            "Requirement already satisfied: cached-property in /usr/local/lib/python3.7/dist-packages (from h5py->keras-applications>=1.0.8->tensorflow==2.1.0) (1.5.2)\n",
            "Building wheels for collected packages: gast\n",
            "  Building wheel for gast (setup.py) ... \u001b[?25l\u001b[?25hdone\n",
            "  Created wheel for gast: filename=gast-0.2.2-py3-none-any.whl size=7554 sha256=f3fb05d5dd050a7b6b711748ab70a312fb009756338e597211464cc8bb804261\n",
            "  Stored in directory: /root/.cache/pip/wheels/21/7f/02/420f32a803f7d0967b48dd823da3f558c5166991bfd204eef3\n",
            "Successfully built gast\n",
            "Installing collected packages: tensorflow-estimator, tensorboard, keras-applications, gast, tensorflow\n",
            "  Attempting uninstall: tensorflow-estimator\n",
            "    Found existing installation: tensorflow-estimator 2.7.0\n",
            "    Uninstalling tensorflow-estimator-2.7.0:\n",
            "      Successfully uninstalled tensorflow-estimator-2.7.0\n",
            "  Attempting uninstall: tensorboard\n",
            "    Found existing installation: tensorboard 2.7.0\n",
            "    Uninstalling tensorboard-2.7.0:\n",
            "      Successfully uninstalled tensorboard-2.7.0\n",
            "  Attempting uninstall: gast\n",
            "    Found existing installation: gast 0.4.0\n",
            "    Uninstalling gast-0.4.0:\n",
            "      Successfully uninstalled gast-0.4.0\n",
            "  Attempting uninstall: tensorflow\n",
            "    Found existing installation: tensorflow 2.7.0\n",
            "    Uninstalling tensorflow-2.7.0:\n",
            "      Successfully uninstalled tensorflow-2.7.0\n",
            "\u001b[31mERROR: pip's dependency resolver does not currently take into account all the packages that are installed. This behaviour is the source of the following dependency conflicts.\n",
            "tensorflow-probability 0.15.0 requires gast>=0.3.2, but you have gast 0.2.2 which is incompatible.\u001b[0m\n",
            "Successfully installed gast-0.2.2 keras-applications-1.0.8 tensorboard-2.1.1 tensorflow-2.1.0 tensorflow-estimator-2.1.0\n",
            "2.1.0\n"
          ]
        }
      ]
    },
    {
      "cell_type": "markdown",
      "metadata": {
        "id": "o07Lk8BE27-6"
      },
      "source": [
        "## Get the physical devices"
      ]
    },
    {
      "cell_type": "markdown",
      "metadata": {
        "id": "bw5wPXyy2Zwp"
      },
      "source": [
        "First, we can list the physical devices available."
      ]
    },
    {
      "cell_type": "code",
      "metadata": {
        "id": "rB-00SsB2Z8v",
        "colab": {
          "base_uri": "https://localhost:8080/"
        },
        "outputId": "7abeeb76-3304-4764-c93d-16869937fb05"
      },
      "source": [
        "# List all physical devices\n",
        "\n",
        "tf.config.list_physical_devices()"
      ],
      "execution_count": 2,
      "outputs": [
        {
          "output_type": "execute_result",
          "data": {
            "text/plain": [
              "[PhysicalDevice(name='/physical_device:CPU:0', device_type='CPU'),\n",
              " PhysicalDevice(name='/physical_device:XLA_CPU:0', device_type='XLA_CPU'),\n",
              " PhysicalDevice(name='/physical_device:XLA_GPU:0', device_type='XLA_GPU'),\n",
              " PhysicalDevice(name='/physical_device:GPU:0', device_type='GPU')]"
            ]
          },
          "metadata": {},
          "execution_count": 2
        }
      ]
    },
    {
      "cell_type": "markdown",
      "metadata": {
        "id": "GBfa_PEw0oXk"
      },
      "source": [
        "If you have enabled the GPU runtime, then you should see the GPU device in the above list.\n",
        "\n",
        "We can also check specifically for the GPU or CPU devices."
      ]
    },
    {
      "cell_type": "code",
      "metadata": {
        "id": "2FgViTqb0oXn",
        "colab": {
          "base_uri": "https://localhost:8080/"
        },
        "outputId": "fadf33aa-a4ad-4e59-95b8-9443023c6853"
      },
      "source": [
        "# Check for GPU devices\n",
        "\n",
        "tf.config.list_physical_devices('GPU')"
      ],
      "execution_count": 3,
      "outputs": [
        {
          "output_type": "execute_result",
          "data": {
            "text/plain": [
              "[PhysicalDevice(name='/physical_device:GPU:0', device_type='GPU')]"
            ]
          },
          "metadata": {},
          "execution_count": 3
        }
      ]
    },
    {
      "cell_type": "code",
      "metadata": {
        "id": "N857-C_B2yMa",
        "colab": {
          "base_uri": "https://localhost:8080/"
        },
        "outputId": "70f6e0f2-ff52-4587-9684-0e737ad6bac5"
      },
      "source": [
        "# Check for CPU devices\n",
        "\n",
        "tf.config.list_physical_devices('CPU')"
      ],
      "execution_count": 4,
      "outputs": [
        {
          "output_type": "execute_result",
          "data": {
            "text/plain": [
              "[PhysicalDevice(name='/physical_device:CPU:0', device_type='CPU')]"
            ]
          },
          "metadata": {},
          "execution_count": 4
        }
      ]
    },
    {
      "cell_type": "markdown",
      "metadata": {
        "id": "GStCHnkx0oXs"
      },
      "source": [
        "We can get the GPU device name as follows:"
      ]
    },
    {
      "cell_type": "code",
      "metadata": {
        "id": "LlT6kf810oXu",
        "colab": {
          "base_uri": "https://localhost:8080/",
          "height": 35
        },
        "outputId": "0d84da1a-0c4a-4139-8baf-675c67e8d803"
      },
      "source": [
        "# Get the GPU device name\n",
        "\n",
        "tf.test.gpu_device_name()"
      ],
      "execution_count": 5,
      "outputs": [
        {
          "output_type": "execute_result",
          "data": {
            "application/vnd.google.colaboratory.intrinsic+json": {
              "type": "string"
            },
            "text/plain": [
              "'/device:GPU:0'"
            ]
          },
          "metadata": {},
          "execution_count": 5
        }
      ]
    },
    {
      "cell_type": "markdown",
      "metadata": {
        "id": "4FNvARDH3KlC"
      },
      "source": [
        "## Placement of Tensor operations"
      ]
    },
    {
      "cell_type": "markdown",
      "metadata": {
        "id": "zB7qxgNL0oYA"
      },
      "source": [
        "TensorFlow will automatically allocate Tensor operations to a physical device, and will handle the copying between CPU and GPU memory if necessary. \n",
        "\n",
        "Let's define a random Tensor:"
      ]
    },
    {
      "cell_type": "code",
      "metadata": {
        "id": "FQrsztEl0oYB"
      },
      "source": [
        "# Define a Tensor\n",
        "\n",
        "x = tf.random.uniform([3, 3])"
      ],
      "execution_count": 6,
      "outputs": []
    },
    {
      "cell_type": "markdown",
      "metadata": {
        "id": "MTni7OPe0oYF"
      },
      "source": [
        "We can see which device this Tensor is placed on using its `device` attribute."
      ]
    },
    {
      "cell_type": "code",
      "metadata": {
        "id": "iLSbukXa0oYH",
        "colab": {
          "base_uri": "https://localhost:8080/",
          "height": 35
        },
        "outputId": "e77f08ed-5117-4673-8235-0d22d1946c61"
      },
      "source": [
        "# Get the Tensor device\n",
        "\n",
        "x.device"
      ],
      "execution_count": 7,
      "outputs": [
        {
          "output_type": "execute_result",
          "data": {
            "application/vnd.google.colaboratory.intrinsic+json": {
              "type": "string"
            },
            "text/plain": [
              "'/job:localhost/replica:0/task:0/device:GPU:0'"
            ]
          },
          "metadata": {},
          "execution_count": 7
        }
      ]
    },
    {
      "cell_type": "markdown",
      "metadata": {
        "id": "8uVDrVK60oYM"
      },
      "source": [
        "The above string will end with `'GPU:K'` if the Tensor is placed on the `K`-th GPU device. We can also check if a tensor is placed on a specific device by using `device_endswith`:"
      ]
    },
    {
      "cell_type": "code",
      "metadata": {
        "id": "n0ceL5Qy0oYN",
        "colab": {
          "base_uri": "https://localhost:8080/"
        },
        "outputId": "9472565f-e989-4b9d-ddd9-4f59986e1464"
      },
      "source": [
        "# Test for device allocation\n",
        "\n",
        "print(\"Is the Tensor on CPU #0:  \"),\n",
        "print(x.device.endswith('CPU:0'))\n",
        "print('')\n",
        "print(\"Is the Tensor on GPU #0:  \"),\n",
        "print(x.device.endswith('GPU:0'))"
      ],
      "execution_count": 8,
      "outputs": [
        {
          "output_type": "stream",
          "name": "stdout",
          "text": [
            "Is the Tensor on CPU #0:  \n",
            "False\n",
            "\n",
            "Is the Tensor on GPU #0:  \n",
            "True\n"
          ]
        }
      ]
    },
    {
      "cell_type": "markdown",
      "metadata": {
        "id": "GtEi2qnK4LyO"
      },
      "source": [
        "## Specifying device placement"
      ]
    },
    {
      "cell_type": "markdown",
      "metadata": {
        "id": "33SlBwIA0oYQ"
      },
      "source": [
        "As mentioned previously, TensorFlow will automatically allocate Tensor operations to specific devices. However, it is possible to force placement on specific devices, if they are available. \n",
        "\n",
        "We can view the benefits of GPU acceleration by running some tests and placing the operations on the CPU or GPU respectively."
      ]
    },
    {
      "cell_type": "code",
      "metadata": {
        "id": "wEfz4RY90oYR"
      },
      "source": [
        "# Define simple tests to time computation speed\n",
        "\n",
        "import time\n",
        "\n",
        "def time_matadd(x):\n",
        "    start = time.time()\n",
        "    for loop in range(10):\n",
        "        tf.add(x, x)\n",
        "    result = time.time()-start\n",
        "    print(\"Matrix addition (10 loops): {:0.2f}ms\".format(1000*result))\n",
        "\n",
        "\n",
        "def time_matmul(x):\n",
        "    start = time.time()\n",
        "    for loop in range(10):\n",
        "        tf.matmul(x, x)\n",
        "    result = time.time()-start\n",
        "    print(\"Matrix multiplication (10 loops): {:0.2f}ms\".format(1000*result))"
      ],
      "execution_count": 9,
      "outputs": []
    },
    {
      "cell_type": "markdown",
      "metadata": {
        "id": "wEd85pdw5N6c"
      },
      "source": [
        "In the following cell, we run the above tests inside the context `with tf.device(\"CPU:0\")`, which forces the operations to be run on the CPU."
      ]
    },
    {
      "cell_type": "code",
      "metadata": {
        "id": "rB5Z1iUT0oYU",
        "colab": {
          "base_uri": "https://localhost:8080/"
        },
        "outputId": "e04bc42b-2019-49c7-b651-96fd5b81c1ca"
      },
      "source": [
        "# Force execution on CPU\n",
        "\n",
        "print(\"On CPU:\")\n",
        "with tf.device(\"CPU:0\"):\n",
        "    x = tf.random.uniform([1000, 1000])\n",
        "    assert x.device.endswith(\"CPU:0\")\n",
        "    time_matadd(x)\n",
        "    time_matmul(x)"
      ],
      "execution_count": 12,
      "outputs": [
        {
          "output_type": "stream",
          "name": "stdout",
          "text": [
            "On CPU:\n",
            "Matrix addition (10 loops): 5.24ms\n",
            "Matrix multiplication (10 loops): 285.98ms\n"
          ]
        }
      ]
    },
    {
      "cell_type": "markdown",
      "metadata": {
        "id": "PN3ZHIMD50kB"
      },
      "source": [
        "And now run the same operations on the GPU:"
      ]
    },
    {
      "cell_type": "code",
      "metadata": {
        "id": "c7AryQq60oYY",
        "colab": {
          "base_uri": "https://localhost:8080/"
        },
        "outputId": "cd640193-0967-4817-f858-c7e76038d9d6"
      },
      "source": [
        "# Force execution on GPU #0 if available\n",
        "\n",
        "if tf.config.experimental.list_physical_devices(\"GPU\"):\n",
        "    print(\"On GPU:\")\n",
        "    with tf.device(\"GPU:0\"): \n",
        "        x = tf.random.uniform([1000, 1000])\n",
        "        assert x.device.endswith(\"GPU:0\")\n",
        "        time_matadd(x)\n",
        "        time_matmul(x)"
      ],
      "execution_count": 13,
      "outputs": [
        {
          "output_type": "stream",
          "name": "stdout",
          "text": [
            "On GPU:\n",
            "Matrix addition (10 loops): 0.12ms\n",
            "Matrix multiplication (10 loops): 2.16ms\n"
          ]
        }
      ]
    },
    {
      "cell_type": "markdown",
      "metadata": {
        "id": "bqJR83G354Zh"
      },
      "source": [
        "Note the significant time difference between running these operations on different devices."
      ]
    },
    {
      "cell_type": "markdown",
      "metadata": {
        "id": "hFOJkxMk-HL_"
      },
      "source": [
        "## Model training"
      ]
    },
    {
      "cell_type": "markdown",
      "metadata": {
        "id": "4gBgorhv-HWE"
      },
      "source": [
        "Finally, we will demonstrate that GPU device placement offers speedup benefits for model training."
      ]
    },
    {
      "cell_type": "code",
      "metadata": {
        "id": "Qa7Vvbne6QS8",
        "colab": {
          "base_uri": "https://localhost:8080/"
        },
        "outputId": "13eefea0-87b3-4c30-f5ac-6e42e4693520"
      },
      "source": [
        "# Load the MNIST dataset\n",
        "\n",
        "from tensorflow.keras.datasets import mnist\n",
        "import numpy as np\n",
        "\n",
        "(x_train, y_train), (x_test, y_test) = mnist.load_data()\n",
        "x_train, x_test = x_train/255., x_test/255."
      ],
      "execution_count": 14,
      "outputs": [
        {
          "output_type": "stream",
          "name": "stdout",
          "text": [
            "Downloading data from https://storage.googleapis.com/tensorflow/tf-keras-datasets/mnist.npz\n",
            "11493376/11490434 [==============================] - 0s 0us/step\n"
          ]
        }
      ]
    },
    {
      "cell_type": "code",
      "metadata": {
        "id": "kJgFyw0567Dn"
      },
      "source": [
        "# Reduce the dataset size to speed up the test\n",
        "\n",
        "x_train, y_train = x_train[:1000], y_train[:1000]"
      ],
      "execution_count": 15,
      "outputs": []
    },
    {
      "cell_type": "code",
      "metadata": {
        "id": "2vD2d7al4_VZ"
      },
      "source": [
        "# Define a function to build the model\n",
        "\n",
        "from tensorflow.keras import layers\n",
        "from tensorflow.keras.models import  Sequential\n",
        "\n",
        "def get_model():\n",
        "  model = Sequential([\n",
        "      layers.Conv2D(32, (3, 3), activation='relu', padding='same', input_shape=(28, 28, 1)),\n",
        "      layers.MaxPooling2D((2, 2)),\n",
        "      layers.Conv2D(64, (3, 3), activation='relu', padding='same'),\n",
        "      layers.MaxPooling2D((2, 2)),\n",
        "      layers.Conv2D(128, (3, 3), activation='relu', padding='same'),\n",
        "      layers.MaxPooling2D((2, 2)),\n",
        "      layers.Flatten(),\n",
        "      layers.Dense(64, activation='relu'),\n",
        "      layers.Dense(10, activation='softmax'),\n",
        "      ])\n",
        "  return model"
      ],
      "execution_count": 16,
      "outputs": []
    },
    {
      "cell_type": "code",
      "metadata": {
        "id": "bxEcTFQb7hRt",
        "colab": {
          "base_uri": "https://localhost:8080/"
        },
        "outputId": "11289788-1e03-4509-99b7-2287dc2a925a"
      },
      "source": [
        "# Time a training run on the CPU\n",
        "\n",
        "with tf.device(\"CPU:0\"):\n",
        "  model = get_model()\n",
        "  model.compile(optimizer=tf.keras.optimizers.RMSprop(1e-3), loss='sparse_categorical_crossentropy', metrics=['accuracy'])\n",
        "  start = time.time()\n",
        "  model.fit(x_train[..., np.newaxis], y_train, epochs=5, verbose=0)\n",
        "  result = time.time() - start\n",
        "\n",
        "print(\"CPU training time: {:0.2f}ms\".format(1000 * result))"
      ],
      "execution_count": 17,
      "outputs": [
        {
          "output_type": "stream",
          "name": "stdout",
          "text": [
            "CPU training time: 7252.12ms\n"
          ]
        }
      ]
    },
    {
      "cell_type": "code",
      "metadata": {
        "id": "R9_G4sak5dHB",
        "colab": {
          "base_uri": "https://localhost:8080/"
        },
        "outputId": "b7c65790-2634-4625-98d3-886be21758ac"
      },
      "source": [
        "# Time a training run on the GPU\n",
        "\n",
        "with tf.device(\"GPU:0\"):\n",
        "  model = get_model()\n",
        "  model.compile(optimizer=tf.keras.optimizers.RMSprop(1e-3), loss='sparse_categorical_crossentropy', metrics=['accuracy'])\n",
        "  start = time.time()\n",
        "  model.fit(x_train[..., np.newaxis], y_train, epochs=5, verbose=0)\n",
        "  result = time.time() - start\n",
        "\n",
        "print(\"GPU training time: {:0.2f}ms\".format(1000 * result))"
      ],
      "execution_count": 18,
      "outputs": [
        {
          "output_type": "stream",
          "name": "stdout",
          "text": [
            "GPU training time: 2937.00ms\n"
          ]
        }
      ]
    },
    {
      "cell_type": "markdown",
      "metadata": {
        "id": "e_O9D-XI0oYa"
      },
      "source": [
        "## Further reading and resources \n",
        "* https://www.tensorflow.org/tutorials/customization/basics#gpu_acceleration"
      ]
    }
  ]
}